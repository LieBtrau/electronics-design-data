{
 "cells": [
  {
   "cell_type": "markdown",
   "id": "19407a4f",
   "metadata": {},
   "source": [
    "Budget : ?\n",
    "\n",
    "# Requirements\n",
    "* ≥ 350MHz bandwidth\n",
    "* 4 channels\n",
    "* big screen\n",
    "\n",
    "# Budget \n",
    "<€6K\n",
    "\n",
    "# Options\n",
    "\n"
   ]
  }
 ],
 "metadata": {
  "kernelspec": {
   "display_name": "Python 3 (ipykernel)",
   "language": "python",
   "name": "python3"
  },
  "language_info": {
   "codemirror_mode": {
    "name": "ipython",
    "version": 3
   },
   "file_extension": ".py",
   "mimetype": "text/x-python",
   "name": "python",
   "nbconvert_exporter": "python",
   "pygments_lexer": "ipython3",
   "version": "3.10.6"
  }
 },
 "nbformat": 4,
 "nbformat_minor": 5
}
