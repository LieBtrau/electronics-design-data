{
 "cells": [
  {
   "cell_type": "markdown",
   "metadata": {},
   "source": [
    "# Parameter measurement\n",
    "* [Measure capacitance with DC-offset](https://www.youtube.com/watch?v=Wo7E__AifQg)\n",
    " * Alternatively, build relaxation oscillator.  As capacitor, use two caps in series.  Add a dc voltage to the interconnection of the two caps.\n",
    "* ESR measurement :\n",
    "    * Select test frequency f, Xc should be <1% of expected ESR at that frequency : e.g. 100kHz\n",
    "    * Use function generator to apply a frequency f sine wave with a DC-offset of half the rated voltage of the capacitor.\n",
    "    * First measure the peak-peak from the 50ohm output of the function generator : set it to around 1Vpp if possible  = V1\n",
    "    * Then connect the capacitor-under-test to the function generator and measure peak-peak again. = V2\n",
    "    * ESR = V2 * 50 / (V1-V2) -> when V2 is small compared to V1 -> ESR = V2/V1 * 50\n",
    "\n",
    "# Ceramic\n",
    "|Recommended brands | Brands to avoid |\n",
    "|-------------------|----------------------|\n",
    "| Kyocera | Holy Stone  |\n",
    "| Murata | Walsin |\n",
    "| TDK |  |\n",
    "| Tayo Yuden | Cal-chip |\n",
    "| Yageo | Nic Components |\n",
    "\n",
    "General parameters : value±10%, X7R\n",
    "| Value | DC-Voltage where ΔC<10%|Package | Part number | Remark |\n",
    "|-------|---------|--------|-------------|--------| \n",
    "| 100p  |         | 0603   | | |\n",
    "| 1nF   |         | 0603   | | 100V C0G |\n",
    "| 10nF  |         | 0603   | C0G, 50V, 5%, 0603 | |\n",
    "| 100nF | 5V      | 0603   | 16V, fres < 12MHz: <br/>• Yageo CC0603KRX7R7BB104<br/>• Samsung CL10B104KO8NNNC<br/>• Kyocera KGM15AR71C104KT<br/>• any 0603 100nF Wuerth capacitor | for 10V, 0402 is more common |\n",
    "| 100nF | 12V     | 0603   | 50V, <10MHz: [Kemet C0603C104K5RAC7411](https://search.kemet.com/download/specsheet/C0603C104K5RAC7411)<br/>• any 0603 100nF Wuerth capacitor | |\n",
    "| 100nF |         | 1206   | | |\n",
    "| 1µF   | 3.3V    | 0603   | 25V: [Samsung CL10B105KA8NNN#](https://product.samsungsem.com/mlcc/CL10B105KA8NNN.do)<br/>WE 885012206002 : X7R, 0603, 6.3V | |\n",
    "| 1µF   | 5V     | 0603   | 10V: <br/>WE 885012206026 | if size really matters |\n",
    "| 1µF   | 5V     | 0805   | 10V: <br/>• Samsung CL21B105KPFNNNE<br/>• WE 885012207022 | |\n",
    "| 1µF   | 17V     | 1206   | 50V: CL31B105KBHNFNE<br/>50V : WE 885012208093 | |\n",
    "| 1µF   | 100V    | 1210   |                 | | \n",
    "| 10µF  | 5V     | 1206   | 10V, fres < 2MHz: <br/>• WE 885012208018<br/>• Murata GRM31CR71A106KA01L (JLCPCB C97953)<br/>• TDK CGA5L1X7R1C106K160AC (JLCPCB C2168241)<br/>• Yageo CC1206KKX7R8BB106 (JLCPCB C70462) | These components cost double the cheapest 10µF/1206<br/> |\n",
    "| 10µF  | 5V     | 1210   | 25V: <br/>CL32B106KAJNNN |  |\n",
    "| 10µF  | 12V    | 1210   | 50V: WE 885012209073<br/>50V: Murata GCM32EC71H106KA03 | at 15V, 17% C loss.  2220 is better but very expensive.  2x1210 is cheaper |\n",
    "| 47µF  | 10V     | 1210   | GRM32ER71A476KE15L | €0.8/pce |\n",
    "\n",
    "## Safety Capacitor Y-cap\n",
    "* **1nF**: WCAP-CSSA Multilayer Ceramic Chip Safety Capacitor, 1812, X7R Class II, X1/Y2, 250VAC\n",
    "    * 1812YA250102KJTSYX Knowles Syfer\n",
    "    * SCC1812X102K502TG Holystone\n",
    "    * 8853522110031 Wurth Elektronik\n",
    "    * JLCPCB C784082\n",
    "\n",
    "# Electrolytic\n",
    "## Aluminium\n",
    "* high temperature\n",
    "* high voltage\n",
    "* low leakage\n",
    "\n",
    "## Aluminium Polymer\n",
    "* low ESR = higher ripple currents\n",
    "* less likely to dry out\n",
    "\n",
    "| Value | Voltage |Package | Part number | Remark |\n",
    "|-------|---------|--------|-------------|--------| \n",
    "| 100µF | 10V     | ⌀6.3mmx8mm,SMD   | WE 875105242010 | €0.55/pce |\n",
    "\n",
    "## Aluminium Polymer Hybrid\n",
    "* low ESR = higher ripple currents\n",
    "* low leakage\n",
    "* less likely to dry out\n",
    "\n",
    "# EDLC / Supercap\n",
    "## RTC backup\n",
    "Eaton KR-5R5V105-R : 1F, 5.5V, 1000 Hrs @ 70°C, €5.77/pce"
   ]
  },
  {
   "cell_type": "code",
   "execution_count": 1,
   "metadata": {},
   "outputs": [],
   "source": [
    "# RTC backup time calculation for supercapacitor\n",
    "\n",
    "I_RTC = 0.5e-6 # A\n",
    "I_leak = 0.5e-6 # A\n",
    "C = 10 # F\n",
    "Vstart = 3.8 # V\n",
    "Vstop = 1.2 # V\n",
    "\n",
    "t_s = C * (Vstart - Vstop) / (I_RTC + I_leak) # s\n",
    "t_days = t_s / (24 * 3600) # days"
   ]
  },
  {
   "cell_type": "markdown",
   "metadata": {},
   "source": [
    "## Hybrid capacitor\n",
    "* [CDA LIC0813Q3R8106](https://mm.digikey.com/Volume0/opasdata/d220001/medias/docus/5561/LIC3.8V%20Series.pdf)\n",
    "  * 10F, 3.8V, 8x14.5mm\n",
    "  * LC=100nA/F (spec), 100nA/F (typ)\n",
    "  * €2/pce digikey, LCSC C2826888\n",
    "* Tecate TPLC-3R8/10MR8X14 (50nA/F leakage)\n",
    "* CDE VMF106M3R8 (50nA/F leakage)"
   ]
  },
  {
   "cell_type": "code",
   "execution_count": 2,
   "metadata": {},
   "outputs": [],
   "source": [
    "# RTC backup time calculation for battery or hybrid capacitor\n",
    "\n",
    "E_Wh = 11e-3 # Wh\n",
    "E = E_Wh * 3600 # J\n",
    "V = 3.0 # V\n",
    "I = 1e-6 # A\n",
    "t_s = E / (V * I) # s\n",
    "t_days = t_s / (24 * 3600) # days"
   ]
  }
 ],
 "metadata": {
  "kernelspec": {
   "display_name": "Python 3",
   "language": "python",
   "name": "python3"
  },
  "language_info": {
   "codemirror_mode": {
    "name": "ipython",
    "version": 3
   },
   "file_extension": ".py",
   "mimetype": "text/x-python",
   "name": "python",
   "nbconvert_exporter": "python",
   "pygments_lexer": "ipython3",
   "version": "3.10.5"
  }
 },
 "nbformat": 4,
 "nbformat_minor": 2
}
