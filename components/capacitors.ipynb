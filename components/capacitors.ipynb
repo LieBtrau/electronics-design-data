{
 "cells": [
  {
   "cell_type": "markdown",
   "metadata": {},
   "source": [
    "# Parameter measurement\n",
    "* [Measure capacitance with DC-offset](https://www.youtube.com/watch?v=Wo7E__AifQg)\n",
    " * Alternatively, build relaxation oscillator.  As capacitor, use two caps in series.  Add a dc voltage to the interconnection of the two caps.\n",
    "* ESR measurement :\n",
    "    * Select test frequency f, Xc should be <1% of expected ESR at that frequency : e.g. 100kHz\n",
    "    * Use function generator to apply a frequency f sine wave with a DC-offset of half the rated voltage of the capacitor.\n",
    "    * First measure the peak-peak from the 50ohm output of the function generator : set it to around 1Vpp if possible  = V1\n",
    "    * Then connect the capacitor-under-test to the function generator and measure peak-peak again. = V2\n",
    "    * ESR = V2 * 50 / (V1-V2) -> when V2 is small compared to V1 -> ESR = V2/V1 * 50\n",
    "\n",
    "# Ceramic\n",
    "General parameters : value±10%, X7R\n",
    "| Value | Voltage |Package | Part number | Remark |\n",
    "|-------|---------|--------|-------------|--------| \n",
    "| 100p  |         | 0603   | | |\n",
    "| 1nF   | 100V    | 0603   | | 50V more common, but 100V can replace all other 1nF caps |\n",
    "| 10nF  | 100V    | 0603   | | |\n",
    "| 100nF | 25V     | 0603   |  | for 10V, 0402 is more common |\n",
    "| 100nF | 250V    | 1206   | | |\n",
    "| 470nF | 10V     |        | | |\n",
    "| 1µF   | 10V     | 0805   | CL21B105KPFNNNE | |\n",
    "| 1µF   | 50V     | 1206   | CL31B105KBHNFNE | |\n",
    "| 1µF   | 100V    | 1210   |                 | | \n",
    "| 10µF  | 25V     | 1210   | CL32B106KAJNNN | ΔC<10% at 5V |\n",
    "| 47µF  | 10V     | 1210   | GRM32ER71A476KE15L | €0.8/pce |\n",
    "\n",
    "# Electrolytic\n",
    "## Aluminium\n",
    "* high temperature\n",
    "* high voltage\n",
    "* low leakage\n",
    "\n",
    "## Aluminium Polymer\n",
    "* low ESR = higher ripple currents\n",
    "* less likely to dry out\n",
    "\n",
    "## Aluminium Polymer Hybrid\n",
    "* low ESR = higher ripple currents\n",
    "* low leakage\n",
    "* less likely to dry out\n",
    "\n",
    "| Value | Voltage |Package | Part number | Remark |\n",
    "|-------|---------|--------|-------------|--------| \n",
    "| 100µF | 10V     | ⌀6.3mmx8mm,SMD   | WE  | €0.3/pce |\n",
    "\n",
    "# EDLC / Supercap\n",
    "## RTC backup\n",
    "* [CDA LIC0813Q3R8106](https://mm.digikey.com/Volume0/opasdata/d220001/medias/docus/5561/LIC3.8V%20Series.pdf)\n",
    "  * 10F, 3.8V, 8x14.5mm\n",
    "  * LC=0.1µA/F \n",
    "  * €2/pce digikey, LCSC C2826888"
   ]
  },
  {
   "cell_type": "code",
   "execution_count": 2,
   "metadata": {},
   "outputs": [],
   "source": [
    "# RTC backup time calculation\n",
    "\n",
    "I_RTC = 1e-6 # A\n",
    "I_leak = 1e-6 # A\n",
    "C = 10 # F\n",
    "Vstart = 3.8 # V\n",
    "Vstop = 1.2 # V\n",
    "\n",
    "t_s = C * (Vstart - Vstop) / (I_RTC + I_leak) # s\n",
    "t_days = t_s / (24 * 3600) # days"
   ]
  }
 ],
 "metadata": {
  "kernelspec": {
   "display_name": "Python 3",
   "language": "python",
   "name": "python3"
  },
  "language_info": {
   "codemirror_mode": {
    "name": "ipython",
    "version": 3
   },
   "file_extension": ".py",
   "mimetype": "text/x-python",
   "name": "python",
   "nbconvert_exporter": "python",
   "pygments_lexer": "ipython3",
   "version": "3.10.5"
  }
 },
 "nbformat": 4,
 "nbformat_minor": 2
}
