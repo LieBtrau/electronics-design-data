{
 "cells": [
  {
   "cell_type": "code",
   "execution_count": 15,
   "metadata": {},
   "outputs": [],
   "source": [
    "# EEE-INST-002: Instructions for EEE Parts Selection, Screening, Qualification,and Derating\n",
    "import math\n",
    "\n",
    "\n",
    "def fixed_film_chip_resistor(value, applied_V, ambient_T, nominal_P, nominal_V):\n",
    "    \"\"\"\n",
    "    Resistance Derating for Fixed Film Chip Resistor, style RM\n",
    "\n",
    "    value = resistance value in ohms\n",
    "    applied_V = applied voltage in volts\n",
    "    ambient_T = ambient temperature in degrees C\n",
    "    nominal_P = nominal power in watts (e.g. 0.1 for 0603)\n",
    "    nominal_V = nominal voltage in volts (e.g. 50 for 0603)\n",
    "    \"\"\"\n",
    "    return _resistor_derating(value, applied_V, ambient_T, nominal_P, nominal_V, 0.6, 0.8, 70, 118)\n",
    "\n",
    "\n",
    "def _resistor_derating(value, applied_V, ambient_T, nominal_P, nominal_V, derating_factor_P, derating_factor_V, derating_T1, derating_T2):\n",
    "    \"\"\"\n",
    "    Resistance Derating for Fixed Film Chip Resistor, style RM\n",
    "\n",
    "    value = resistance value in ohms\n",
    "    applied_V = applied voltage in volts\n",
    "    ambient_T = ambient temperature in degrees C\n",
    "    nominal_P = nominal power in watts (e.g. 0.1 for 0603)\n",
    "    nominal_V = nominal voltage in volts (e.g. 50 for 0603)\n",
    "    derating_factor_P = derating factor for power (see table 4) (e.g. 0.6 for RM)\n",
    "    derating_factor_V = derating factor for voltage (see table 4) (e.g. 0.8 for RM)\n",
    "    derating_T1 = first temperature in degrees C (e.g. 70 for RM)\n",
    "    derating_T2 = second temperature in degrees C (e.g. 118 for RM)\n",
    "    \"\"\"\n",
    "    T1 = derating_T1\n",
    "    T2 = derating_T2\n",
    "\n",
    "    if ambient_T <= T1:\n",
    "        Pmax = derating_factor_P * nominal_P\n",
    "    elif ambient_T <= T2:\n",
    "        # y = ax + b\n",
    "        # a = (y2-y1)/(x2-x1) = (-0.6)/(T2-T1) = 0\n",
    "        # b = y1 = 0.6\n",
    "        Pmax = ((-derating_factor_P/(T2-T1)) *\n",
    "                          (ambient_T-T1) + derating_factor_P) * nominal_P\n",
    "    else:\n",
    "        print(\"Ambient temperature exceeds power derating: \" + str(ambient_T) + \"°C > \" + str(T2) + \"°C\")\n",
    "        return False\n",
    "            \n",
    "    applied_P = (applied_V**2)/value\n",
    "    if applied_P > Pmax:\n",
    "        print(\"Applied power exceeds power derating: \" + str(round(applied_P,3)) + \"W > \" + str(round(Pmax,3))+\"W\")\n",
    "        print(\"Maximum allowed voltage: \" + str(round(math.sqrt(Pmax*value),1)) + \"V\")\n",
    "        return False\n",
    "    \n",
    "    Vmax = min(math.sqrt(Pmax*value), derating_factor_V * nominal_V)\n",
    "\n",
    "    if applied_V > Vmax:\n",
    "        print(\"Applied voltage exceeds voltage derating: \" + str(applied_V) + \" > \" + str(Vmax))\n",
    "        return False\n",
    "\n",
    "    return True"
   ]
  },
  {
   "cell_type": "code",
   "execution_count": 16,
   "metadata": {},
   "outputs": [
    {
     "name": "stdout",
     "output_type": "stream",
     "text": [
      "True\n"
     ]
    }
   ],
   "source": [
    "# Example\n",
    "nominal_P_0603 = 0.1 # watts\n",
    "nominal_V_0603 = 50 # volts\n",
    "\n",
    "nominal_P_1206 = 0.25 # watts\n",
    "nominal_V_1206 = 200 # volts\n",
    "\n",
    "nominal_P_2512 = 1 # watts (normal 2512 is only 1W)\n",
    "nominal_V_2512 = 200 # volts\n",
    "\n",
    "\n",
    "# Pick a resistor value\n",
    "resistorValue = 3900 # ohms\n",
    "\n",
    "\n",
    "# Pick a resistor package\n",
    "nominal_P = nominal_P_2512\n",
    "nominal_V = nominal_V_2512\n",
    "\n",
    "# Set the conditions : ambient temperature, applied voltage\n",
    "ambient_T = 50 # degrees C\n",
    "apply_V = 48 # volts\n",
    "\n",
    "print(fixed_film_chip_resistor(resistorValue, apply_V, ambient_T,nominal_P, nominal_V))\n"
   ]
  }
 ],
 "metadata": {
  "kernelspec": {
   "display_name": "Python 3",
   "language": "python",
   "name": "python3"
  },
  "language_info": {
   "codemirror_mode": {
    "name": "ipython",
    "version": 3
   },
   "file_extension": ".py",
   "mimetype": "text/x-python",
   "name": "python",
   "nbconvert_exporter": "python",
   "pygments_lexer": "ipython3",
   "version": "3.10.5"
  },
  "orig_nbformat": 4
 },
 "nbformat": 4,
 "nbformat_minor": 2
}
