{
 "cells": [
  {
   "cell_type": "code",
   "execution_count": 39,
   "metadata": {},
   "outputs": [
    {
     "name": "stdout",
     "output_type": "stream",
     "text": [
      "Applied power exceeds power derating\n",
      "False\n"
     ]
    }
   ],
   "source": [
    "# EEE-INST-002: Instructions for EEE Parts Selection, Screening, Qualification,and Derating\n",
    "import math\n",
    "\n",
    "\n",
    "def fixed_film_chip_resistor(value, applied_V, ambient_T, nominal_P, nominal_V):\n",
    "    \"\"\"\n",
    "    Resistance Derating for Fixed Film Chip Resistor, style RM\n",
    "\n",
    "    value = resistance value in ohms\n",
    "    applied_V = applied voltage in volts\n",
    "    ambient_T = ambient temperature in degrees C\n",
    "    nominal_P = nominal power in watts (e.g. 0.1 for 0603)\n",
    "    nominal_V = nominal voltage in volts (e.g. 50 for 0603)\n",
    "    \"\"\"\n",
    "    return _resistor_derating(value, applied_V, ambient_T, nominal_P, nominal_V, 0.6, 0.8, 70, 118)\n",
    "\n",
    "\n",
    "def _resistor_derating(value, applied_V, ambient_T, nominal_P, nominal_V, derating_factor_P, derating_factor_V, derating_T1, derating_T2):\n",
    "    \"\"\"\n",
    "    Resistance Derating for Fixed Film Chip Resistor, style RM\n",
    "\n",
    "    value = resistance value in ohms\n",
    "    applied_V = applied voltage in volts\n",
    "    ambient_T = ambient temperature in degrees C\n",
    "    nominal_P = nominal power in watts (e.g. 0.1 for 0603)\n",
    "    nominal_V = nominal voltage in volts (e.g. 50 for 0603)\n",
    "    derating_factor_P = derating factor for power (see table 4) (e.g. 0.6 for RM)\n",
    "    derating_factor_V = derating factor for voltage (see table 4) (e.g. 0.8 for RM)\n",
    "    derating_T1 = first temperature in degrees C (e.g. 70 for RM)\n",
    "    derating_T2 = second temperature in degrees C (e.g. 118 for RM)\n",
    "    \"\"\"\n",
    "    applied_P = (applied_V**2)/value\n",
    "    voltage_derating = derating_factor_V * nominal_V\n",
    "\n",
    "    if applied_V > voltage_derating:\n",
    "        print(\"Applied voltage exceeds voltage derating\")\n",
    "        return False\n",
    "    T1 = derating_T1\n",
    "    T2 = derating_T2\n",
    "\n",
    "    if ambient_T <= T1:\n",
    "        power_derating = derating_factor_P * nominal_P\n",
    "    elif ambient_T <= T2:\n",
    "        # y = ax + b\n",
    "        # a = (y2-y1)/(x2-x1) = (-0.6)/(T2-T1) = 0\n",
    "        # b = y1 = 0.6\n",
    "        power_derating = ((-derating_factor_P/(T2-T1)) *\n",
    "                          (ambient_T-T1) + derating_factor_P) * nominal_P\n",
    "        if applied_P > power_derating:\n",
    "            print(\"Applied power exceeds power derating\")\n",
    "            return False\n",
    "    else:\n",
    "        print(\"Ambient temperature exceeds power derating\")\n",
    "        return False\n",
    "    return True\n",
    "\n",
    "\n",
    "# Example\n",
    "nominal_P_0603 = 0.1\n",
    "nominal_V_0603 = 50\n",
    "print(fixed_film_chip_resistor(8200, applied_V=25, ambient_T=71,\n",
    "      nominal_P=nominal_P_0603, nominal_V=nominal_V_0603))\n"
   ]
  }
 ],
 "metadata": {
  "kernelspec": {
   "display_name": "Python 3",
   "language": "python",
   "name": "python3"
  },
  "language_info": {
   "codemirror_mode": {
    "name": "ipython",
    "version": 3
   },
   "file_extension": ".py",
   "mimetype": "text/x-python",
   "name": "python",
   "nbconvert_exporter": "python",
   "pygments_lexer": "ipython3",
   "version": "3.10.12"
  },
  "orig_nbformat": 4
 },
 "nbformat": 4,
 "nbformat_minor": 2
}
