{
 "cells": [
  {
   "cell_type": "markdown",
   "id": "d0071a25",
   "metadata": {},
   "source": [
    "# Simulation model\n",
    "<img src =\"./doc/quartz_crystal_model.png\" width=700 />\n",
    "\n",
    "These parameters can be measured with a network analyzer.  For more information, see : \n",
    "* [FesZ Electronics : Measuring and Simulating QUARTZ crystals using LTspice](https://youtu.be/MWQCZGXpSSc)\n",
    "* [All Electronics : How to Characterize Crystal Parameters Using a Vector Network Analyzer (VNA)](https://youtu.be/MbPeYd1N1Xg)\n",
    "  * Be sure to set the NVA number of points high enough\n",
    "  * Ground the crystal to a metal plate to avoid touch effects\n",
    "  * Be sure to limit the frequency range to get enough points at the resonance peaks\n",
    "* [G.F. Gusberti : Characterization of Crystal Resonators](https://gusbertianalog.com/characterization-of-crystal-resonators/)"
   ]
  },
  {
   "cell_type": "code",
   "execution_count": 4,
   "id": "2412fee9",
   "metadata": {},
   "outputs": [],
   "source": [
    "# Calculating the motional resistance Rm\n",
    "\n",
    "ESR = 50 # Equivalent series resistance of the crystal\n",
    "C0 = 1e-6 # Shunt capacitance of the crystal\n",
    "C1 = 10e-12 # First external load capacitance of the crystal\n",
    "C2 = 10e-12 # Second external load capacitance of the crystal\n",
    "\n",
    "CL = C1 * C2 / (C1 + C2) # Total load capacitance of the crystal\n",
    "\n",
    "Rm = ESR /  (1 + C0 / CL)**2"
   ]
  },
  {
   "cell_type": "markdown",
   "id": "97496f2b",
   "metadata": {},
   "source": [
    "## Resonance frequency\n",
    "First resonance is series frequency of Lm and Cm.\n",
    "$$f_{s}=\\frac{1}{2*\\Pi*\\sqrt{L_{m}*C_{m}}}$$\n",
    "Second resonance is parallel frequency of Lm and (Cm||C0).\n",
    "$$f_{p}=\\frac{1}{2*\\Pi*\\sqrt{L_{m}*\\frac{C_{m}*C_{0}}{C_{m}+C_{0}}}}$$\n",
    "\n",
    "## Crystal impedance\n",
    "<figure>\n",
    "<img src=\"./doc/crystal_impedance.png\" width=\"1000\" />\n",
    "<figcaption>Crystal impedance</figcaption>\n",
    "</figure>\n",
    "\n",
    "The crystal is capacitive below series frequency and above parallel frequency.  Between these frequencies, the crystal is inductive.  At the series frequency, the crystal impedance is minimum and purely resistive.  At the parallel frequency, the crystal impedance is maximum and purely resistive again."
   ]
  }
 ],
 "metadata": {
  "kernelspec": {
   "display_name": "Python 3",
   "language": "python",
   "name": "python3"
  },
  "language_info": {
   "codemirror_mode": {
    "name": "ipython",
    "version": 3
   },
   "file_extension": ".py",
   "mimetype": "text/x-python",
   "name": "python",
   "nbconvert_exporter": "python",
   "pygments_lexer": "ipython3",
   "version": "3.10.5"
  }
 },
 "nbformat": 4,
 "nbformat_minor": 5
}
