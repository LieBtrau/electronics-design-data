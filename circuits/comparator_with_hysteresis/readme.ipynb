{
 "cells": [
  {
   "cell_type": "markdown",
   "metadata": {},
   "source": [
    "# Comparator\n",
    "When a PMOS power transistor is needed anyway to switch a load, then a TLV431 can be used.\n",
    "In most cases a TS391 comparator is preferred.\n",
    "A TPS3808 voltage supervisor can be used as well.  It has the advantage of an internal voltage reference, hysteresis and delayed output."
   ]
  }
 ],
 "metadata": {
  "kernelspec": {
   "display_name": "Python 3",
   "language": "python",
   "name": "python3"
  },
  "language_info": {
   "name": "python",
   "version": "3.10.5"
  },
  "orig_nbformat": 4
 },
 "nbformat": 4,
 "nbformat_minor": 2
}
