{
 "cells": [
  {
   "cell_type": "markdown",
   "metadata": {},
   "source": [
    "# Comparator\n",
    "When a PMOS power transistor is needed anyway to switch a load, then a TLV431 can be used.\n",
    "In most cases a TS391 comparator is preferred.\n",
    "A TPS3808 voltage supervisor can be used as well.  It has the advantage of an internal voltage reference, hysteresis and delayed output."
   ]
  },
  {
   "cell_type": "markdown",
   "metadata": {},
   "source": [
    "# Non-inverting Comparator with Hysteresis\n",
    "<figure>\n",
    "    <img src=\"./doc/non-inverting-comparator.png\" alt=\"Non-inverting Comparator with Hysteresis\" width=\"800\"/>\n",
    "    <figcaption>Non-inverting Comparator with Hysteresis</figcaption>\n",
    "</figure>"
   ]
  },
  {
   "cell_type": "code",
   "execution_count": 12,
   "metadata": {},
   "outputs": [
    {
     "name": "stdout",
     "output_type": "stream",
     "text": [
      "Nominal: turn on at 49.754 V, turn off at 49.489 V\n",
      "Minimum: turn on at 48.843 V, turn off at 48.579 V\n",
      "Maximum: turn on at 50.682 V, turn off at 50.417 V\n"
     ]
    }
   ],
   "source": [
    "R1 = 2e3\n",
    "R2 = 10e3\n",
    "R3 = 330\n",
    "R5 = 270e3\n",
    "R6 = 91e3\n",
    "tol = 0.01\n",
    "Vcc = 14.97\n",
    "Vio = 2e-3 # Input offset voltage TS391A\n",
    "Iio = 150e-9 # Input offset current TS391A\n",
    "\n",
    "def calc_voltage_divider(vin, r1, r2):\n",
    "    return vin * r2 / (r1 + r2)\n",
    "\n",
    "# Turn-on threshold voltage (Vth+) and turn-off threshold voltage (Vth-)\n",
    "Vth_on_nom = calc_voltage_divider(Vcc, R1, R2 + R3)\n",
    "Vin_on_nom = Vth_on_nom * (R5 + R6) / R6\n",
    "\n",
    "Vth_on_min = calc_voltage_divider(Vcc, R1 * (1 + tol), (R2 + R3) * (1 - tol)) - Vio - Iio * (R2 * (1 - tol))\n",
    "Vin_on_min = Vth_on_min * (R5 * (1 - tol) + R6 * (1 + tol)) / (R6 * (1 + tol))\n",
    "\n",
    "Vth_on_max = calc_voltage_divider(Vcc, R1 * (1 - tol), (R2 + R3) * (1 + tol)) + Vio + Iio * (R2 * (1 + tol))\n",
    "Vin_on_max = Vth_on_max * (R5 * (1 + tol) + R6 * (1 - tol)) / (R6 * (1 - tol))\n",
    "\n",
    "# Turn-off threshold voltage (Vth-) and turn-on threshold voltage (Vth+)\n",
    "Vth_off_nom = calc_voltage_divider(Vcc, R1, R2)\n",
    "Vin_off_nom = Vth_off_nom * (R5 + R6) / R6\n",
    "\n",
    "Vth_off_min = calc_voltage_divider(Vcc, R1 * (1 + tol), R2 * (1 - tol)) - Vio - Iio * (R2 * (1 - tol))\n",
    "Vin_off_min = Vth_off_min * (R5 * (1 - tol) + R6 * (1 + tol)) / (R6 * (1 + tol))\n",
    "\n",
    "Vth_off_max = calc_voltage_divider(Vcc, R1 * (1 - tol), R2 * (1 + tol)) + Vio + Iio * (R2 * (1 + tol))\n",
    "Vin_off_max = Vth_off_max * (R5 * (1 + tol) + R6 * (1 - tol)) / (R6 * (1 - tol))\n",
    "\n",
    "# Print input voltage values for the three cases: nominal, minimum, and maximum\n",
    "print(f\"Nominal: turn on at {Vin_on_nom:.3f} V, turn off at {Vin_off_nom:.3f} V\")\n",
    "print(f\"Minimum: turn on at {Vin_on_min:.3f} V, turn off at {Vin_off_min:.3f} V\")\n",
    "print(f\"Maximum: turn on at {Vin_on_max:.3f} V, turn off at {Vin_off_max:.3f} V\")\n"
   ]
  },
  {
   "cell_type": "markdown",
   "metadata": {},
   "source": [
    "\n",
    "\n",
    "# References\n",
    "[Comparator Hysteresis](https://circuitcellar.com/resources/comparator-hysteresis-2/)"
   ]
  }
 ],
 "metadata": {
  "kernelspec": {
   "display_name": "Python 3",
   "language": "python",
   "name": "python3"
  },
  "language_info": {
   "codemirror_mode": {
    "name": "ipython",
    "version": 3
   },
   "file_extension": ".py",
   "mimetype": "text/x-python",
   "name": "python",
   "nbconvert_exporter": "python",
   "pygments_lexer": "ipython3",
   "version": "3.10.5"
  },
  "orig_nbformat": 4
 },
 "nbformat": 4,
 "nbformat_minor": 2
}
