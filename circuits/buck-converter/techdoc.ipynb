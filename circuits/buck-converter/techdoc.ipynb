{
 "cells": [
  {
   "cell_type": "markdown",
   "metadata": {},
   "source": [
    "[Tutorial by Jurgen Hubner][def]\n",
    "\n",
    "[def]: https://www.powerelectronicsnews.com/the-buck-regulator-power-supply-design-tutorial-part-2-1/"
   ]
  },
  {
   "cell_type": "code",
   "execution_count": 55,
   "metadata": {},
   "outputs": [],
   "source": [
    "# Design parameters\n",
    "VinMax = 47\n",
    "VinNom = 45\n",
    "VinMin = 40\n",
    "Vo = 12\n",
    "Vd = 0.5 # Schottky diode forward voltage drop (non-synchronous buck converter)\n",
    "Δil_pp = 0.3 # A, 20% of 1A\n",
    "fsw = 1.1e6 # Hz\n",
    "Io_min = 0.15 # A\n",
    "Io = 0.5 # A\n",
    "Io_max = 1 # A\n",
    "Lin = 1e-6 # H, input filter inductor, set to 1µH when not specified\n",
    "η = 0.8 # Efficiency\n",
    "ΔIo = 0.2 # A, load transient\n",
    "ΔVo_load = 0.05 # V, load transient\n",
    "Vref = 0.8 # V, reference voltage"
   ]
  },
  {
   "cell_type": "markdown",
   "metadata": {},
   "source": [
    "# Duty cycle equations"
   ]
  },
  {
   "cell_type": "code",
   "execution_count": 56,
   "metadata": {},
   "outputs": [],
   "source": [
    "Dmin = (Vo + Vd)/(VinMax + Vd)\n",
    "Dnom = (Vo + Vd)/(VinNom + Vd)\n",
    "Dmax = (Vo + Vd)/(VinMin + Vd)"
   ]
  },
  {
   "cell_type": "markdown",
   "metadata": {},
   "source": [
    "# Inductor selection\n",
    "1. Select the maximum peak to peak current ripple in the inductor: Δil_pp.  This is typically 20% to 40% of the maximum output current."
   ]
  },
  {
   "cell_type": "code",
   "execution_count": 57,
   "metadata": {},
   "outputs": [],
   "source": [
    "Lmin1 = Dmax*(VinMax - Vo)/(Δil_pp * fsw)"
   ]
  },
  {
   "cell_type": "markdown",
   "metadata": {},
   "source": [
    "2. Guarantee CCM operation:"
   ]
  },
  {
   "cell_type": "code",
   "execution_count": 58,
   "metadata": {},
   "outputs": [],
   "source": [
    "Lmin2 = Dmin*(VinMax - Vo)/(2* Io_min * fsw)\n",
    "\n",
    "L1 = max(Lmin1, Lmin2)"
   ]
  },
  {
   "cell_type": "markdown",
   "metadata": {},
   "source": [
    "# Input capacitor selection\n",
    "1. Select the maximum input voltage ripple ΔVin_pp.  This is typically 1% to 5% of the minimum input voltage.\n",
    "2. Calculate the minimum input capacitance required to maintain the input voltage ripple within the specified limits."
   ]
  },
  {
   "cell_type": "code",
   "execution_count": 59,
   "metadata": {},
   "outputs": [],
   "source": [
    "\n",
    "ΔVin_pp = VinMin * 0.01 # V\n",
    "Cin_min = Io * (1-Dnom) * Dnom / (ΔVin_pp * fsw)"
   ]
  },
  {
   "cell_type": "markdown",
   "metadata": {},
   "source": [
    "Filter Impedance and Converter Impedance"
   ]
  },
  {
   "cell_type": "code",
   "execution_count": 60,
   "metadata": {},
   "outputs": [],
   "source": [
    "import math\n",
    "# Filter impedance formed by input inductor and input capacitor\n",
    "\n",
    "Zs = math.sqrt(Lin/Cin_min)\n",
    "\n",
    "# Input impedance of the converter\n",
    "Zin = -VinMin**2 / Vo * Io_max\n",
    "\n",
    "if(abs(Zs) > abs(Zin)):\n",
    "    print(\"The input filter impedance is too high\")"
   ]
  },
  {
   "cell_type": "markdown",
   "metadata": {},
   "source": [
    "If Zs is not much smaller than Zin, you'll have to add another capacitor (Cin2) with a high ESR.  This can be an electrolytic capacitor or an MLCC with a discrete series resistor."
   ]
  },
  {
   "cell_type": "code",
   "execution_count": 61,
   "metadata": {},
   "outputs": [],
   "source": [
    "Cin1 = Cin_min\n",
    "Cin2 = 4* Cin1\n",
    "ESRmin = 0.5 * math.sqrt(Lin/Cin1)\n",
    "\n",
    "Zs = math.sqrt(Lin/(Cin1+Cin2))\n",
    "\n",
    "# Damping factor, should be greater than 1"
   ]
  },
  {
   "cell_type": "markdown",
   "metadata": {},
   "source": [
    "# Input capacitor RMS current calculation"
   ]
  },
  {
   "cell_type": "code",
   "execution_count": 62,
   "metadata": {},
   "outputs": [],
   "source": [
    "I_source_max = Vo * Io_max / (η * VinMin)\n",
    "Dmax = Vo / (VinMin * η)\n",
    "Iin_avg = I_source_max / Dmax # Average height of the current peaks in the input current waveform\n",
    "\n",
    "ΔiL = (VinMin - Vo) / (fsw * L1) * Dmax\n",
    "Iin_pk = Iin_avg + ΔiL/2\n",
    "\n",
    "# Input RMS current of the power stage\n",
    "Iin_rms = math.sqrt(Dmax * (Iin_pk**2 + (ΔiL**2)/3 - Iin_pk * ΔiL))\n",
    "\n",
    "# Input RMS current of input capacitors\n",
    "Icin_rms = math.sqrt(Iin_rms**2 - I_source_max**2)"
   ]
  },
  {
   "cell_type": "markdown",
   "metadata": {},
   "source": [
    "Group your input capacitors per type : MLCC, electrolytic, etc.\n",
    "* MLCC ≤ 1µF can be skipped\n",
    "\n",
    "Then calculate the RMS current for each group:"
   ]
  },
  {
   "cell_type": "code",
   "execution_count": 63,
   "metadata": {},
   "outputs": [],
   "source": [
    "# Group 1\n",
    "Xcin1 = 1/ (8*fsw * Cin1)\n",
    "Zcin1 = math.sqrt(ESRmin**2 + Xcin1**2)\n",
    "\n",
    "# Group 2\n",
    "Xcin2 = 1/ (8*fsw * Cin2)\n",
    "Zcin2 = math.sqrt(ESRmin**2 + Xcin2**2)\n",
    "\n",
    "Ic1_rms = Icin_rms * Zcin2 / (Zcin1 + Zcin2)\n",
    "Ic2_rms = Icin_rms * Zcin1 / (Zcin1 + Zcin2)"
   ]
  },
  {
   "cell_type": "markdown",
   "metadata": {},
   "source": [
    "# Output capacitor selection"
   ]
  },
  {
   "cell_type": "code",
   "execution_count": 64,
   "metadata": {},
   "outputs": [],
   "source": [
    "ΔVo_max_pp = 0.01 * Vo # V, up to 5% of Vo\n",
    "\n",
    "# Equation set 1 with fudge factors for steady state\n",
    "Co_min1 = Δil_pp / (4 * fsw * ΔVo_max_pp)\n",
    "ESR_max1 = ΔVo_max_pp / (2 * Δil_pp)\n",
    "\n",
    "# Equation set 2 with fudge factors for load transients\n",
    "Co_min2 = 2 * ΔIo / (fsw * ΔVo_load)\n",
    "ESR_max2 = ΔVo_load / (2 * ΔIo)\n",
    "\n",
    "Co = max(Co_min1, Co_min2)\n",
    "ESR_Co = min(ESR_max1, ESR_max2)"
   ]
  },
  {
   "cell_type": "markdown",
   "metadata": {},
   "source": [
    "Group your output capacitors per type : MLCC, electrolytic, etc.\n",
    "Calculate the peak-to-peak output voltage ripple ΔVo_pp from the load current ripple : ΔVo_pp = Δil_pp / ((1/Zo_bulk) + (1/Zo_ESR))\n",
    "\n",
    "Then calculate the RMS current for each group:\n",
    "Ico_rms = Δil_pp / sqrt(12)"
   ]
  },
  {
   "cell_type": "markdown",
   "metadata": {},
   "source": [
    "# Feedback network design\n",
    "After the resistor ratio is determined, the resistor values can be found [online](http://www.stratoloft.com/teledesign/ResistorRatio.html)."
   ]
  },
  {
   "cell_type": "code",
   "execution_count": 67,
   "metadata": {},
   "outputs": [],
   "source": [
    "# Feedback resistor ratio : Rfbt/Rfbb\n",
    "rr = (Vo-Vref)/Vref\n",
    "Rfbb = 3.3e3 # Ohm\n",
    "Rfbt = (Vo-Vref)/Vref * Rfbb # ohm, should be in the range of 10k to 100k"
   ]
  },
  {
   "cell_type": "code",
   "execution_count": 66,
   "metadata": {},
   "outputs": [],
   "source": [
    "# LMR16030 \n",
    "## UVLO calculation\n",
    "# Rent = EN pull-up resistor\n",
    "# Renb = EN pull-down resistor\n",
    "\n",
    "Vstart = 40 # [V] UVLO rising threshold\n",
    "Vstop = 35 # [V] UVLO  falling threshold \n",
    "Ihys = 3.6e-6 # [A] UVLO hysteresis curr$ent\n",
    "Ven = 1.2 # [V] UVLO enable threshold\n",
    "Ien = 1e-6 # [A] UVLO enable current\n",
    "Rent = (Vstart - Vstop) / Ihys\n",
    "Renb = Ven / ((Vstart-Ven)/Rent + Ien)\n",
    "\n",
    "# Now fill in the real resistor values and calculate the real thresholds\n",
    "Rent_real = 1.3e6 # [Ohm] EN pull-up resistor\n",
    "Renb_real = 39e3 # [Ohm] EN pull-down resistor\n",
    "Vstart_calc = (Ven / Renb_real - Ien) * Rent_real + Ven\n",
    "Vstop_calc = Vstart_calc - Rent_real * Ihys"
   ]
  }
 ],
 "metadata": {
  "kernelspec": {
   "display_name": "Python 3",
   "language": "python",
   "name": "python3"
  },
  "language_info": {
   "codemirror_mode": {
    "name": "ipython",
    "version": 3
   },
   "file_extension": ".py",
   "mimetype": "text/x-python",
   "name": "python",
   "nbconvert_exporter": "python",
   "pygments_lexer": "ipython3",
   "version": "3.10.5"
  },
  "orig_nbformat": 4
 },
 "nbformat": 4,
 "nbformat_minor": 2
}
