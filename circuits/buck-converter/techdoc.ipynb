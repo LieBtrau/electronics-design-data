{
 "cells": [
  {
   "cell_type": "markdown",
   "metadata": {},
   "source": [
    "[Tutorial by Jurgen Hubner][def]\n",
    "\n",
    "[def]: https://www.powerelectronicsnews.com/the-buck-regulator-power-supply-design-tutorial-part-2-1/"
   ]
  },
  {
   "cell_type": "code",
   "execution_count": 5,
   "metadata": {},
   "outputs": [],
   "source": [
    "# LMR16030 \n",
    "## UVLO calculation\n",
    "# Rent = EN pull-up resistor\n",
    "# Renb = EN pull-down resistor\n",
    "\n",
    "Vstart = 40 # [V] UVLO rising threshold\n",
    "Vstop = 35 # [V] UVLO  falling threshold \n",
    "Ihys = 3.6e-6 # [A] UVLO hysteresis curr$ent\n",
    "Ven = 1.2 # [V] UVLO enable threshold\n",
    "Ien = 1e-6 # [A] UVLO enable current\n",
    "Rent = (Vstart - Vstop) / Ihys\n",
    "Renb = Ven / ((Vstart-Ven)/Rent + Ien)\n",
    "\n",
    "# Now fill in the real resistor values and calculate the real thresholds\n",
    "Rent_real = 1.3e6 # [Ohm] EN pull-up resistor\n",
    "Renb_real = 39e3 # [Ohm] EN pull-down resistor\n",
    "Vstart_calc = (Ven / Renb_real - Ien) * Rent_real + Ven\n",
    "Vstop_calc = Vstart_calc - Rent_real * Ihys"
   ]
  }
 ],
 "metadata": {
  "kernelspec": {
   "display_name": "Python 3",
   "language": "python",
   "name": "python3"
  },
  "language_info": {
   "codemirror_mode": {
    "name": "ipython",
    "version": 3
   },
   "file_extension": ".py",
   "mimetype": "text/x-python",
   "name": "python",
   "nbconvert_exporter": "python",
   "pygments_lexer": "ipython3",
   "version": "3.10.5"
  },
  "orig_nbformat": 4
 },
 "nbformat": 4,
 "nbformat_minor": 2
}
