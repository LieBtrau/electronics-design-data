{
 "cells": [
  {
   "cell_type": "markdown",
   "metadata": {},
   "source": [
    "[Tutorial by Jurgen Hubner][def]\n",
    "\n",
    "[def]: https://www.powerelectronicsnews.com/the-buck-regulator-power-supply-design-tutorial-part-2-1/"
   ]
  }
 ],
 "metadata": {
  "language_info": {
   "name": "python"
  },
  "orig_nbformat": 4
 },
 "nbformat": 4,
 "nbformat_minor": 2
}
