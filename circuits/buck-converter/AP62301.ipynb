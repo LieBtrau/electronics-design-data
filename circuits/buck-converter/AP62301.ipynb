{
 "cells": [
  {
   "cell_type": "markdown",
   "metadata": {},
   "source": [
    "# Enable voltage\n",
    "\n",
    "Choose resistor chain current at least 20x input leakage current (2uA) to avoid voltage drop.\n",
    "When V_EN > 1.5V there's extra leakage."
   ]
  },
  {
   "cell_type": "code",
   "execution_count": 13,
   "metadata": {},
   "outputs": [
    {
     "name": "stdout",
     "output_type": "stream",
     "text": [
      "Rt = 48.33 kOhm\n",
      "V_en_min = 5.83 V\n",
      "V_en_typ = 6.84 V\n",
      "V_en_max = 7.24 V\n"
     ]
    }
   ],
   "source": [
    "def calc_Rt(V_en, V_threshold, Rb):\n",
    "    return V_en / V_threshold * Rb - Rb\n",
    "\n",
    "def enable_voltage(v_threshold, Rt, Rb):\n",
    "    return v_threshold / Rb * (Rt + Rb)\n",
    "\n",
    "# User defined values\n",
    "V_en = 7\n",
    "Rb = 10e3\n",
    "\n",
    "# Calculated values\n",
    "Rt = calc_Rt(V_en, 1.20, Rb)\n",
    "print(\"Rt = {:.2f} kOhm\".format(Rt / 1e3))\n",
    "\n",
    "# Standard values\n",
    "Rt = 47e3\n",
    "\n",
    "# Check resistor values\n",
    "if V_en / (Rt + Rb) < 40e-6:\n",
    "    print(\"Resistor values are too high\")\n",
    "\n",
    "# Enable voltage\n",
    "V_en_typ = enable_voltage(1.20, Rt, Rb)\n",
    "V_en_min = enable_voltage(1.04, Rt*0.99, Rb*1.01)\n",
    "V_en_max = enable_voltage(1.25, Rt*1.01, Rb*0.99)\n",
    "\n",
    "print(\"V_en_min = {:.2f} V\".format(V_en_min))\n",
    "print(\"V_en_typ = {:.2f} V\".format(V_en_typ))\n",
    "print(\"V_en_max = {:.2f} V\".format(V_en_max))"
   ]
  }
 ],
 "metadata": {
  "kernelspec": {
   "display_name": "Python 3",
   "language": "python",
   "name": "python3"
  },
  "language_info": {
   "codemirror_mode": {
    "name": "ipython",
    "version": 3
   },
   "file_extension": ".py",
   "mimetype": "text/x-python",
   "name": "python",
   "nbconvert_exporter": "python",
   "pygments_lexer": "ipython3",
   "version": "3.10.5"
  }
 },
 "nbformat": 4,
 "nbformat_minor": 2
}
