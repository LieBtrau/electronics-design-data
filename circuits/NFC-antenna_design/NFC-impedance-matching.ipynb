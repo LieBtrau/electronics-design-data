{
 "cells": [
  {
   "cell_type": "markdown",
   "metadata": {},
   "source": [
    "# Step 0: Antenna design\n",
    "## Recommendations\n",
    "### EMC\n",
    "You can add a ground trace on another layer that covers the traces in order for common mode currents to capacitevely couple to the ground plane.  Do not close the loop of that ground trace, because that would cause eddy currents that short the antenna.\n",
    "\n",
    "### Antenna size\n",
    "* Larger antennas have larger magnetic field strength for the same input power\n",
    "* Maximum coupling is reached when coil radius equals reading distance.\n",
    "* Maximum achievable coupling decreases as antenna size increases.\n",
    "* Larger antennas can generate the minimum field strength (1.5A/m) over longer reading distances, but they require more current to do it.\n",
    "* Minimum antenna size: 500mm² (25mm x 20mm)\n",
    "* Recommended antenna size : 40mm x 40mm\n",
    "* Maximum antenna size: 5000mm² (71mm x 71mm)\n",
    "\n",
    "### Number of turns \n",
    "<img src=\"./inductance_versus_coil_radius.png\" width=\"600px\">\n",
    "Remark that the x-axis is **radius** and not diameter. \n",
    "\n",
    "<img src=\"./max_coupling_vs_antenna_size.png\" width=\"600px\">\n",
    "Remark that the x-axis is **diameter** and not radius.\n",
    "\n",
    "Maximum coupling is reaced for a coil with a diameter d=4cm (on X-axis), and a reading distance X=2cm.  It's not given what the size of the PICC is, probably something about the same size as the PCD.\n",
    "\n",
    "* You can not increase operating distance by changing the number of turns.\n",
    "* Typical number of turns: 1-4 turns (PN7150: 2-8 turns)\n",
    "* effect on matching circuit : for load modulation (the NFC-card does), more turns are better\n",
    "\n",
    "### Antenna inductance\n",
    "* Antenna inductance: 700nH ~ 1.6μH\n",
    "* Target antenna inductance (for matching) : 1µH → 3µH, best 1µH, L ≈ 300nH up to L≈ 4μH still can be matched properly\n",
    "\n",
    "### Antenna impedance\n",
    "* Antenna matching network R_match should be around 20 - 25 Ohm.  That's a 250mA current for a 5V supply.\n",
    "\n",
    "### Antenna Q-factor\n",
    "* Q-factor should be around 10-20 for ISO14443 communication.\n",
    "\n",
    "### Various\n",
    "* Matching circuit should be close to the antenna, not close to the reader.\n",
    "* https://www.nxp.com/docs/en/application-note/AN11755.pdf : ferrite shielding\n",
    "* Minimum track spacing : 0.2mm\n",
    "* Minimum track width : 0.2mm\n",
    "\n",
    "## Antenna design for rectangular coil"
   ]
  },
  {
   "cell_type": "code",
   "execution_count": 1,
   "metadata": {},
   "outputs": [
    {
     "name": "stdout",
     "output_type": "stream",
     "text": [
      "L_ant = 1.10e-06 H\n"
     ]
    }
   ],
   "source": [
    "import math\n",
    "\n",
    "d_in = 45e-3\n",
    "d_out = 50e-3\n",
    "N = 3 # number of turns\n",
    "\n",
    "K1 = 2.34 # constant for a square coil\n",
    "K2 = 2.75 # constant for a square coil\n",
    "µ_0 = 4e-7 * math.pi # permeability of free space in H/m\n",
    "d = (d_in + d_out)/2\n",
    "ρ = (d_out - d_in)/(d_out + d_in) # filling ratio\n",
    "L_ant = K1 * µ_0 * N**2 * d / (1 + K2*ρ)\n",
    "print(f\"L_ant = {L_ant:.2e} H\")"
   ]
  },
  {
   "cell_type": "markdown",
   "metadata": {},
   "source": [
    "# Step 1: Antenna model measurement\n",
    "## VNA setup\n",
    "* start frequency: 1 MHz\n",
    "* stop frequency: > self resonant frequency (SRF) of the antenna (100 MHz?)\n",
    "\n",
    "SRF on the Smith chart is the frequency where the impedance curve crosses the horizontal axis.\n",
    "\n",
    "## Measurement of parameters"
   ]
  },
  {
   "cell_type": "code",
   "execution_count": 11,
   "metadata": {},
   "outputs": [],
   "source": [
    "import math\n",
    "L_a = 1.34e-6 # H, Equivalent inductance at f = 1MHz\n",
    "R_s = 0.536 # Ohm, Equivalent resistance at f = 1MHz\n",
    "\n",
    "f_ra = 56.95e6 # Hz, Self-resonance frequency of the antenna\n",
    "R_p = 1.94e3 # Ohm, Equivalent resistance at the self-resonance frequency\n",
    "\n",
    "f_op = 13.56e6 # Hz, Operating frequency\n",
    "ω_op = 2*math.pi*f_op # rad/s, Operating angular frequency"
   ]
  },
  {
   "cell_type": "markdown",
   "metadata": {},
   "source": [
    "<img src=\"./series_equivalent_calculation.png\" width=\"400\"/>"
   ]
  },
  {
   "cell_type": "code",
   "execution_count": 12,
   "metadata": {},
   "outputs": [
    {
     "name": "stdout",
     "output_type": "stream",
     "text": [
      "C_a = 5.83e-12 F\n",
      "R_a = 3.81 Ohm\n"
     ]
    }
   ],
   "source": [
    "# Calculation of equivalent circuit of the antenna\n",
    "C_a = 1 / ((2 *  math.pi * f_ra)**2 * L_a) # F, antenna capacitance\n",
    "print(f\"C_a = {C_a:.2e} F\")\n",
    "R_p_op = R_p / math.sqrt(f_op / f_ra) # Ohm, Equivalent resistance at the operating frequency\n",
    "R_a = R_s + (ω_op * L_a)**2 / R_p_op # Ohm, Equivalent resistance at the operating frequency\n",
    "print(f\"R_a = {R_a:.2f} Ohm\")\n",
    "\n",
    "# Evaluation of measured parameters\n",
    "if(L_a < 0.3e-6 or L_a > 3e-6):\n",
    "    print(\"L_a is out of range.\")\n",
    "if(C_a < 3e-12 or C_a > 30e-12):\n",
    "    print(\"C_a is out of range.\")\n",
    "if(f_ra < 25e6):\n",
    "    print(\"f_ra is out of range.\")\n",
    "# There's no check on R_a because it's the Q-factor that is important.      "
   ]
  },
  {
   "cell_type": "markdown",
   "metadata": {},
   "source": [
    "## Quality factor\n",
    "A correct range for the Q-factor is 20-35.\n",
    "Series resistors R_q can be added to lower the Q-factor when needed."
   ]
  },
  {
   "cell_type": "code",
   "execution_count": 13,
   "metadata": {},
   "outputs": [
    {
     "name": "stdout",
     "output_type": "stream",
     "text": [
      "Qa = 29.93\n"
     ]
    }
   ],
   "source": [
    "# Calculation of the antenna Q factor\n",
    "Qa = ω_op * L_a / R_a\n",
    "if(Qa < 20 or Qa > 35):\n",
    "    print(\"The antenna Q factor is not in the range of 20 to 35.\")\n",
    "    R_q = max(0.5 * (ω_op * L_a / 35 - R_a), 0) # Ohm, Equivalent resistances (2x) to be added to the antenna to make the Q factor 35\n",
    "    print(f\"R_q = {R_q:.2f} Ohm\")\n",
    "else:\n",
    "    R_q = 0\n",
    "print(f\"Qa = {Qa:.2f}\")"
   ]
  },
  {
   "cell_type": "markdown",
   "metadata": {},
   "source": [
    "## Parallel equivalent circuit\n",
    "<img src=\"./parallel_equivalent_circuit.png\" width=\"400\"/>"
   ]
  },
  {
   "cell_type": "code",
   "execution_count": 14,
   "metadata": {},
   "outputs": [],
   "source": [
    "L_pa = L_a\n",
    "C_pa = C_a\n",
    "R_pa = (ω_op * L_a)**2 / (R_a + 2 * R_q)    "
   ]
  },
  {
   "cell_type": "markdown",
   "metadata": {},
   "source": [
    "# Step 2: EMC filter design (L0 and C0 definition)\n",
    "* L_0 should be in the range of 160nH to 560nH (NXP).\n",
    "* L_0 range should be around 390nH to 680nH (Holtek).\n",
    "* f_r0 filter resonance frequency should be in the range of 15.5MHz to 17MHz (AN11740 has another opinion on this)."
   ]
  },
  {
   "cell_type": "code",
   "execution_count": 15,
   "metadata": {},
   "outputs": [
    {
     "name": "stdout",
     "output_type": "stream",
     "text": [
      "The resonance frequency is 18955077.88 MHz\n"
     ]
    }
   ],
   "source": [
    "L_0 = 470e-9 # H, Inductance of the matching network\n",
    "C_0 = 150e-12 # F, Capacitance of the matching network\n",
    "\n",
    "f_r0 = 1 /  (2 * math.pi * math.sqrt(C_0 * L_0)) # Hz, Resonance frequency of the matching network\n",
    "print(f\"The resonance frequency is {f_r0:.2f} MHz\")"
   ]
  },
  {
   "cell_type": "markdown",
   "metadata": {},
   "source": [
    "## Impedance transformation\n",
    "<img src=\"./impedance_transformation.png\" width=\"600\"/>\n",
    "\n",
    "The EMC filter and the matching network must transform the antenna impedance Z_match(f) to the required TX matching resistance R_match at the operating frequency of f = 13.56 MHz.\n",
    "\n",
    "## Calculation of impedance matching network\n",
    "<img src=\"./definition_of_transformation_impedance_Ztr.png\" width=\"600\"/>\n",
    "\n",
    "By cutting the circuitry after the EMC filter and by using the precondition R match/2, the remaining components C_1 and C_2 can be calculated.\n",
    "Optimal power transfer is achieved through conjugate matching.  The impedance looking into the EMC-filter Z_tr should be the complex conjugate of the impedance looking into the impedance matching network Z_tr*."
   ]
  },
  {
   "cell_type": "code",
   "execution_count": 16,
   "metadata": {},
   "outputs": [],
   "source": [
    "R_match = 20 # Ohm, Desired load resistance on TX1-TX2\n",
    "a = (1 - ω_op**2 * L_0 * C_0) # helper variable\n",
    "b = a**2 + (ω_op*R_match*C_0/2)**2 # helper variable\n",
    "R_tr = R_match / b # Real part of Z_tr\n",
    "X_tr = 2 * ω_op * (L_0 * a - (R_match**2)*C_0/4) / b # Imaginary part of Z_tr"
   ]
  },
  {
   "cell_type": "markdown",
   "metadata": {},
   "source": [
    "# Step 3: Reader mode matching (C1 and C2 definition)"
   ]
  },
  {
   "cell_type": "code",
   "execution_count": 17,
   "metadata": {},
   "outputs": [
    {
     "name": "stdout",
     "output_type": "stream",
     "text": [
      "C_1 = 3.55e-11 F\n",
      "C_2 = 1.49e-10 F\n"
     ]
    }
   ],
   "source": [
    "C_1 = 1 / (ω_op * (math.sqrt(R_tr*R_pa/4)+X_tr/2))\n",
    "C_2 = 2 / (ω_op**2 * L_pa) - 1 / (ω_op * math.sqrt(R_tr*R_pa/4)) - 2 * C_pa\n",
    "\n",
    "print(f\"C_1 = {C_1:.2e} F\")\n",
    "print(f\"C_2 = {C_2:.2e} F\") "
   ]
  },
  {
   "cell_type": "markdown",
   "metadata": {},
   "source": [
    "# Step 4 : tuning of the matching network\n",
    "1. Cut L0s loose from the NFC-chip.  The alternative is leaving the connection in place and using a 2mA power setting in the NanoVNA.\n",
    "2. Use a DMM to check your circuit:\n",
    "    * resistance of the antenna\n",
    "    * resistance of matching circuit to GND\n",
    "    * resistance between the two sides of the matching circuit\n",
    "    * resistance of the EMC filter to GND\n",
    "    * input resistance of the EMC filter\n",
    "3. Use tape to fix the NanoVNA cable to the board.\n",
    "4. Set sweep NanoVNA from 1MHz to 100MHz, followed by SOL-calibration.  Then do the measurement.\n",
    "\n",
    "## Impact C0\n",
    "<img src=\"./AN11755_impact_C0.png\" width=\"600\"/>\n",
    "\n",
    "## Impact C1\n",
    "The value of C1 changes the magnitude of the matching impedance. \n",
    "\n",
    "<img src=\"./AN11755_impact_C1.png\" width=\"600\"/>\n",
    "\n",
    "## Impact C2\n",
    "After changing C1 the imaginary part of Z match must be compensated by adjusting C2 as well.  C2 changes mainly the imaginary part of Z match.\n",
    "\n",
    "<img src=\"./AN11755_impact_C2.png\" width=\"600\"/>"
   ]
  },
  {
   "cell_type": "markdown",
   "metadata": {},
   "source": [
    "# References\n",
    "1. [NXP AN11755](https://www.nxp.com/docs/en/application-note/AN11755.pdf)\n",
    "2. Holtek AN0650EN\n",
    "3. [NFC-Antenna design](https://community.nxp.com/t5/NFC-Knowledge-Base/NFC-Antenna-Design/ta-p/1112414)\n",
    "4. [AN11740](https://www.nxp.com/docs/en/application-note/AN11740.pdf)\n",
    "5. [DPC antenna tuning](https://www.nxp.com/docs/en/application-note/AN11741.pdf)\n",
    "6. [using NanoVNA for NFC antenna design](https://www.nxp.com/docs/en/application-note/AN12810.pdf)\n",
    "7. [antenna with components and ground plane on the inside](https://www.ti.com/lit/an/sloa197/sloa197.pdf)\n",
    "8. [PICC Class 1 antenna](https://www.comprion.com/shop/antennas/emvco-3-0-test-picc-1.html)\n",
    "\n",
    "Example antenna from Eccel: 80x80mm, 2 turns"
   ]
  },
  {
   "cell_type": "code",
   "execution_count": 18,
   "metadata": {},
   "outputs": [
    {
     "name": "stdout",
     "output_type": "stream",
     "text": [
      "C1 = 2.63e-10 F\n",
      "C3 = 1.17e-10 F\n"
     ]
    }
   ],
   "source": [
    "# Holtek antenna tuning\n",
    "f_op = 13.56e6 # Hz, Operating frequency\n",
    "C2 = 30e-12 # F, fixed capacitor\n",
    "L1= 470e-9 # H, fixed inductor\n",
    "Lant = 1.877e-6 # H, antenna inductance\n",
    "C1 = 1/((2*math.pi*f_op)**2 * L1) - C2\n",
    "print(f\"C1 = {C1:.2e} F\")\n",
    "C3 = 2 /((2*math.pi*f_op)**2 * Lant) - C2\n",
    "print(f\"C3 = {C3:.2e} F\")"
   ]
  }
 ],
 "metadata": {
  "kernelspec": {
   "display_name": "Python 3",
   "language": "python",
   "name": "python3"
  },
  "language_info": {
   "codemirror_mode": {
    "name": "ipython",
    "version": 3
   },
   "file_extension": ".py",
   "mimetype": "text/x-python",
   "name": "python",
   "nbconvert_exporter": "python",
   "pygments_lexer": "ipython3",
   "version": "3.10.5"
  }
 },
 "nbformat": 4,
 "nbformat_minor": 2
}
