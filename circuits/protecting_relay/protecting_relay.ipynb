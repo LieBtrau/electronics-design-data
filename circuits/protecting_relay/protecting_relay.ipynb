{
 "cells": [
  {
   "cell_type": "markdown",
   "metadata": {},
   "source": [
    "# Protecting coil-switching device\n",
    "\n",
    "1. Don't use rectifying diodes or normal zeners.  Use SPD instead (e.g. TVS).\n",
    "2. Higher TVS voltage will provide faster switch-off (good for relay contacts) at the expense of higher emissions.\n",
    "3. Use a common package, so that it's easy to replace the SPD by a diode or zener if necessary.\n",
    "\n",
    "# Protection of relay contacts\n",
    "1. Don't use R/C-snubber over the contacts.  Leakage current will cause dangerous touch currents. Add snubber across the load and across the power supply, both as close to the relay as possible.\n",
    "2. Typical snubber circuit:\n",
    "    * R: 100Ω/2W -> 220Ω/2W : don't use wirewound resistor (too inductive)\n",
    "    * C: 100nF/630V/X2 rated\n",
    "    * MOV : MOV-10D471K : 470V, 2.5kA\n",
    "\n",
    "# Reference\n",
    "* K.Armstrong : EMC Design Techniques, §9.4\n",
    "* [ #131 Mechanical relay overload and snubber (with sparks) ](https://www.youtube.com/watch?v=OAmXypXwkeg)"
   ]
  }
 ],
 "metadata": {
  "kernelspec": {
   "display_name": "Python 3",
   "language": "python",
   "name": "python3"
  },
  "language_info": {
   "name": "python",
   "version": "3.10.5"
  }
 },
 "nbformat": 4,
 "nbformat_minor": 2
}
