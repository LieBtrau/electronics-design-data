{
 "cells": [
  {
   "cell_type": "markdown",
   "metadata": {},
   "source": [
    "# Application note\n",
    "* [Wuerth ANP015](https://www.we-online.com/components/media/o109029v410%20AppNotes_ANP015_MainFilterTheLastBarrierInASMPS_EN.pdf)\n",
    "\n",
    "[FesZ: EMC tutorials - CM/DM filters](https://www.youtube.com/watch?v=lZUXPiDt89I)\n",
    "CM-noise : \n",
    "* noise source has high impedance (because of capacitive coupling to PE in case of double insulated equipment) : Pi filter is used to reduce the noise\n",
    "* low load impedance : 25ohm load impedance of LISN\n",
    "\n",
    "DM-noise :\n",
    "* noise source has low source impedance : T filter is used to reduce the noise\n",
    "* high load impedance : 100ohm load impedance of LISN\n",
    "\n",
    "# Filter topology\n",
    "<img src=\"./CM-current-path.png\" width=\"750\" />\n",
    "\n",
    "1. Y-caps (CY1, CY2) : close to the noise source to keep that loop small\n",
    "2. DM-filter : CX1, Ldm, CX2\n",
    "3. Final X-cap (CX1) : close to the device terminals.  This will equalize (and share) the CM-currents in L1 and L2.  CX1 avoids that Ldm worsens the CM-noise, see [EMC-tutorials CM/DM filters](https://youtu.be/lZUXPiDt89I?t=841)\n",
    "\n",
    "# Filter design\n",
    "<img src=\"./CM-DM_filter.png\" width=\"750\"/>\n",
    "\n",
    "## Cut-off frequency"
   ]
  },
  {
   "cell_type": "code",
   "execution_count": 2,
   "metadata": {},
   "outputs": [
    {
     "name": "stdout",
     "output_type": "stream",
     "text": [
      "Cut-off frequency for LC-filter design is 75.00 kHz\n"
     ]
    }
   ],
   "source": [
    "f_sw = 750e3 # switching frequency\n",
    "A_fsw = 40 # dB attenuation at f_sw\n",
    "\n",
    "f_co = f_sw / 10**(A_fsw/40) # cutoff frequency\n",
    "print(\"Cut-off frequency for LC-filter design is %.2f kHz\" % (f_co/1e3))"
   ]
  },
  {
   "cell_type": "markdown",
   "metadata": {},
   "source": [
    "## CM-inductor selection\n",
    "* Rated current : 1.5 x Iload (or 2 x Iload)\n",
    "* Inductance : select the inductor that gives you the highest impedance at the frequency of interest (i.e. the switching frequency of the SMPS).\n",
    "\n",
    "## CM-Attenuation\n",
    "The CM-impedance of the CM-choke is complex (see [How does it Work? Common Mode Chokes](https://www.pulseelectronics.com/wp-content/uploads/2021/03/CMC-How-Does-it-Work.pdf)).\n",
    "Simple formula for CM-impedance of a CM-choke : Zcm = 2 x pi x f x Lcm (Lcm is the inductance of a single coil inside the CM-choke)\n"
   ]
  },
  {
   "cell_type": "code",
   "execution_count": 4,
   "metadata": {},
   "outputs": [
    {
     "name": "stdout",
     "output_type": "stream",
     "text": [
      "Attenuation at switching frequency is 20.91 dB\n"
     ]
    }
   ],
   "source": [
    "import math\n",
    "L_cm_2 = 250e-6 # inductance value of a single coil in the CM-filter \n",
    "C_Y_tot = 2e-9 # total capacitance value of the Y-capacitors in the CM-filter\n",
    "f_sw = 750e3 # switching frequency\n",
    "\n",
    "f_co = 1/(2*math.pi*(L_cm_2*C_Y_tot)**0.5) # cutoff frequency\n",
    "A_fsw = math.log10(f_sw/f_co)*40 # attenuation at f_sw\n",
    "print(\"CM-attenuation at switching frequency is %.2f dB.\" % A_fsw)"
   ]
  },
  {
   "cell_type": "markdown",
   "metadata": {},
   "source": [
    "# DM-attenuation\n",
    "The leakage inductance of the CM-choke can be used as inductance for a DM-filter.  If the inductance is too low, then add a series inductor to the CM-choke."
   ]
  },
  {
   "cell_type": "code",
   "execution_count": 5,
   "metadata": {},
   "outputs": [
    {
     "name": "stdout",
     "output_type": "stream",
     "text": [
      "DM-attenuation at switching frequency is 46.93 dB.\n"
     ]
    }
   ],
   "source": [
    "L_dm_tot = 10e-6 # total inductance value of the DM-filter (Lcm_leak + Ldm)\n",
    "C_x = 1e-6 # capacitance value of the DM-filter\n",
    "\n",
    "f_co = 1/(2*math.pi*(L_dm_tot*C_x)**0.5) # cutoff frequency\n",
    "A_fsw = math.log10(f_sw/f_co)*40 # attenuation at f_sw\n",
    "print(\"DM-attenuation at switching frequency is %.2f dB.\" % A_fsw)\n"
   ]
  }
 ],
 "metadata": {
  "kernelspec": {
   "display_name": "Python 3",
   "language": "python",
   "name": "python3"
  },
  "language_info": {
   "codemirror_mode": {
    "name": "ipython",
    "version": 3
   },
   "file_extension": ".py",
   "mimetype": "text/x-python",
   "name": "python",
   "nbconvert_exporter": "python",
   "pygments_lexer": "ipython3",
   "version": "3.10.5"
  }
 },
 "nbformat": 4,
 "nbformat_minor": 2
}
