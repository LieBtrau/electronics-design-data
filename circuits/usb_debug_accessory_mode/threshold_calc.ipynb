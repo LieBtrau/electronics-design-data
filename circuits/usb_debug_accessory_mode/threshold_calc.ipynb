{
 "cells": [
  {
   "cell_type": "markdown",
   "metadata": {},
   "source": [
    "[Termination Resistors Required for the USB Type-C Connector – KBA97180](https://community.infineon.com/t5/Knowledge-Base-Articles/Termination-Resistors-Required-for-the-USB-Type-C-Connector-KBA97180/ta-p/253544)\n",
    "\n",
    "[USB Type-C® Cable and Connector Specification Release 2.2](https://www.usb.org/document-library/usb-type-cr-cable-and-connector-specification-release-22)\n",
    "\n",
    "# B.2.6.1.1 Orientation Detection with DTS as a Source\n",
    "The debug test system provides power to the target system.\n",
    "\n",
    "Table B-2 & Table 4-26: When using default USB-power : \n",
    "* CC1 Rp for 3A : pull up to 4.75 – 5.5 V : 10kΩ\n",
    "* CC2 Rp for 1.5A : pull up to 4.75 – 5.5 V : 22kΩ\n"
   ]
  },
  {
   "cell_type": "code",
   "execution_count": 3,
   "metadata": {},
   "outputs": [],
   "source": [
    "Vmin = 4.50 # 5% less than the minimum voltage of 4.75V\n",
    "R_CC2 = 22e3 # 22k\n",
    "R_CC1 = 10e3 # 10k\n",
    "Rpd = 5.1e3 # 5.1k\n",
    "V_threshold = 0.4\n",
    "\n",
    "V_CC2 = Vmin * Rpd / (Rpd + R_CC2)\n",
    "\n",
    "ratio_R2_R1 = V_threshold / (V_CC2 - V_threshold)\n",
    "\n",
    "\n",
    "# Suppose R1 is connected on CC2 side\n",
    "V_CC1 = Vmin * Rpd / (Rpd + R_CC1)\n",
    "\n",
    "V_R2 = V_CC1 * ratio_R2_R1 / (1 + ratio_R2_R1)\n",
    "\n",
    "# We will divide R2 into two resistors, R2a and R2b\n",
    "ratio_R2a_R2b = (V_R2 - V_threshold) / V_threshold\n"
   ]
  },
  {
   "cell_type": "markdown",
   "metadata": {},
   "source": [
    "Now we can start filling in the resistor values.  Let's start with the smallest values first and work our way up.\n",
    "R2a / R2b = 0.79 -> [Resistor ratio calculator](http://www.stratoloft.com/teledesign/ResistorRatio.html)"
   ]
  },
  {
   "cell_type": "code",
   "execution_count": 4,
   "metadata": {},
   "outputs": [],
   "source": [
    "R2a = 120e3\n",
    "R2b = 150e3\n",
    "\n",
    "# Now we can calculate R1\n",
    "R2 = R2a + R2b\n",
    "R1 = R2 / ratio_R2_R1"
   ]
  },
  {
   "cell_type": "markdown",
   "metadata": {},
   "source": [
    "R1 = 30162ohm\n",
    "\n",
    "[Resistor combination calculator](https://www.qsl.net/in3otd/parallr.html)\n",
    "\n",
    "R1 = 220kohm + 8.2kohm"
   ]
  }
 ],
 "metadata": {
  "kernelspec": {
   "display_name": "Python 3",
   "language": "python",
   "name": "python3"
  },
  "language_info": {
   "codemirror_mode": {
    "name": "ipython",
    "version": 3
   },
   "file_extension": ".py",
   "mimetype": "text/x-python",
   "name": "python",
   "nbconvert_exporter": "python",
   "pygments_lexer": "ipython3",
   "version": "3.10.12"
  },
  "orig_nbformat": 4
 },
 "nbformat": 4,
 "nbformat_minor": 2
}
