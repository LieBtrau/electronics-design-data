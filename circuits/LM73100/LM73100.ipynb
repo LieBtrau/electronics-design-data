{
 "cells": [
  {
   "cell_type": "markdown",
   "metadata": {},
   "source": [
    "# Application schematic\n",
    "<img src=\"./Application_schematic.png\" width=\"800\">\n",
    "\n",
    "# UVLO & OVLO\n",
    "\n",
    "* Choose current of resistor string (R1+R2+R3) > 20* leakage current of UVLO and OV pin -> I > 20*0.2uA = 4uA"
   ]
  },
  {
   "cell_type": "code",
   "execution_count": 35,
   "metadata": {},
   "outputs": [
    {
     "name": "stdout",
     "output_type": "stream",
     "text": [
      "R1: 135.94 kOhm\n",
      "R3: 13.12 kOhm\n",
      "UVLO Min: 6.35 V\n",
      "UVLO nominal: 7.20 V\n",
      "UVLO Max: 7.46 V\n",
      "OVLO Min: 12.68 V\n",
      "OVLO nominal: 14.40 V\n",
      "OVLO Max: 14.95 V\n"
     ]
    }
   ],
   "source": [
    "def uvlo(v_threshold, R1, R2, R3):\n",
    "    I = v_threshold / (R2 + R3)\n",
    "    uvlo = I * (R1 + R2 + R3)\n",
    "    return uvlo\n",
    "\n",
    "def ovlo(v_threshold, R1, R2, R3):\n",
    "    I = v_threshold / R3\n",
    "    ovlo = I * (R1 + R2 + R3)\n",
    "    return ovlo\n",
    "\n",
    "def calc_resistors(v_threshold, uvlo, ovlo, R2):\n",
    "    R3 = R2 * uvlo / (ovlo - uvlo)\n",
    "    R1 = uvlo*(R2+R3)/v_threshold - R2 - R3\n",
    "    return R1, R3\n",
    "\n",
    "# User defined values\n",
    "R2 = 15e3\n",
    "UVLO = 7\n",
    "OVLO = 15\n",
    "\n",
    "# Calculate resistor values\n",
    "v_thr_uvlo = 1.2\n",
    "vtrh_ovlo = 1.2\n",
    "R1, R3 = calc_resistors(v_thr_uvlo, UVLO, OVLO, R2)\n",
    "print(\"R1: {:.2f} kOhm\".format(R1/1e3))\n",
    "print(\"R3: {:.2f} kOhm\".format(R3/1e3))\n",
    "\n",
    "# Check resistor values\n",
    "if UVLO / (R1 + R2 + R3) < 4e-6:\n",
    "    print(\"Resistors are too small\")\n",
    "\n",
    "# Convert to standard values\n",
    "R1 = 150e3\n",
    "R3 = 15e3\n",
    "\n",
    "# Calculate thresholds based on the standard values\n",
    "V_uvlo_nom = uvlo(v_thr_uvlo, R1, R2, R3)\n",
    "V_ovlo_nom = ovlo(vtrh_ovlo, R1, R2, R3)\n",
    "\n",
    "# Calculate manufacturer tolerances\n",
    "V_uvlo_min = uvlo(1.076, R1*0.99, R2*1.01, R3*1.01)\n",
    "V_uvlo_max = uvlo(1.223, R1*1.01, R2*0.99, R3*0.99)\n",
    "\n",
    "V_ovlo_min = ovlo(1.076, R1*0.99, R2*0.99 , R3*1.01)\n",
    "V_ovlo_max = ovlo(1.223, R1*1.01, R2*1.01, R3*0.99)\n",
    "\n",
    "# Print results\n",
    "print(\"UVLO Min: {:.2f} V\".format(V_uvlo_min))\n",
    "print(\"UVLO nominal: {:.2f} V\".format(V_uvlo_nom))\n",
    "print(\"UVLO Max: {:.2f} V\".format(V_uvlo_max))\n",
    "\n",
    "print(\"OVLO Min: {:.2f} V\".format(V_ovlo_min))\n",
    "print(\"OVLO nominal: {:.2f} V\".format(V_ovlo_nom))\n",
    "print(\"OVLO Max: {:.2f} V\".format(V_ovlo_max))"
   ]
  },
  {
   "cell_type": "markdown",
   "metadata": {},
   "source": [
    "# Power good\n",
    "\n",
    "Resistor string should have 20x higher current than leakage into PG pin (2µA) -> I > 40µA"
   ]
  },
  {
   "cell_type": "code",
   "execution_count": 36,
   "metadata": {},
   "outputs": [
    {
     "name": "stdout",
     "output_type": "stream",
     "text": [
      "R4: 96.67 kOhm\n",
      "PG Nominal: 7.20 V\n",
      "PG Min: 6.35 V\n",
      "PG Max: 7.46 V\n"
     ]
    }
   ],
   "source": [
    "def calc_resistor(v_pg, pg_thereshold, R5):\n",
    "    return v_pg / pg_thereshold * R5 - R5\n",
    "\n",
    "def pg(v_threshold, R4, R5):\n",
    "    return v_threshold / R5 * (R4 + R5)\n",
    "\n",
    "# User defined value\n",
    "V_pg = 7\n",
    "R5 = 20e3\n",
    "\n",
    "# Calculate resistor value\n",
    "R4 = calc_resistor(V_pg, 1.2, R5)\n",
    "print(\"R4: {:.2f} kOhm\".format(R4/1e3))\n",
    "\n",
    "# Use standard value\n",
    "R4 = 100e3\n",
    "\n",
    "# Check resistor values\n",
    "if V_pg / (R4+R5) < 40e-6:\n",
    "    print(\"Resistor is too small\")\n",
    "\n",
    "PG_nom = pg(1.2, R4, R5)\n",
    "PG_min = pg(1.076, R4*0.99, R5*1.01)\n",
    "PG_max = pg(1.223, R4*1.01, R5*0.99)\n",
    "print(\"PG Nominal: {:.2f} V\".format(PG_nom))\n",
    "print(\"PG Min: {:.2f} V\".format(PG_min))\n",
    "print(\"PG Max: {:.2f} V\".format(PG_max))"
   ]
  }
 ],
 "metadata": {
  "kernelspec": {
   "display_name": "Python 3",
   "language": "python",
   "name": "python3"
  },
  "language_info": {
   "codemirror_mode": {
    "name": "ipython",
    "version": 3
   },
   "file_extension": ".py",
   "mimetype": "text/x-python",
   "name": "python",
   "nbconvert_exporter": "python",
   "pygments_lexer": "ipython3",
   "version": "3.10.5"
  }
 },
 "nbformat": 4,
 "nbformat_minor": 2
}
