{
 "cells": [
  {
   "cell_type": "code",
   "execution_count": 14,
   "id": "80c944ac",
   "metadata": {},
   "outputs": [
    {
     "name": "stdout",
     "output_type": "stream",
     "text": [
      "R1: 183.19 kOhm\n",
      "R3: 10.22 kOhm\n",
      "Ir = 20.80 µA\n",
      "UVLO Min: 4.42 V\n",
      "UVLO nominal: 4.95 V\n",
      "UVLO Max: 5.17 V\n",
      "OVLO Min: 25.23 V\n",
      "OVLO nominal: 28.20 V\n",
      "OVLO Max: 29.59 V\n"
     ]
    }
   ],
   "source": [
    "def uvlo(v_threshold, R1, R2, R3):\n",
    "    I = v_threshold / (R2 + R3)\n",
    "    uvlo = I * (R1 + R2 + R3)\n",
    "    return uvlo\n",
    "\n",
    "def ovlo(v_threshold, R1, R2, R3):\n",
    "    I = v_threshold / R3\n",
    "    ovlo = I * (R1 + R2 + R3)\n",
    "    return ovlo\n",
    "\n",
    "def calc_resistors(v_threshold, uvlo, ovlo, R2):\n",
    "    R3 = R2 * uvlo / (ovlo - uvlo)\n",
    "    R1 = uvlo*(R2+R3)/v_threshold - R2 - R3\n",
    "    return R1, R3\n",
    "\n",
    "# User defined values\n",
    "R2 = 47e3\n",
    "UVLO = 5\n",
    "OVLO = 28\n",
    "\n",
    "# Calculate resistor values\n",
    "v_thr_uvlo_min = 1.08\n",
    "v_thr_uvlo_typ = 1.19\n",
    "v_thr_uvlo_max = 1.225\n",
    "\n",
    "vtrh_ovlo_min = 1.085\n",
    "vtrh_ovlo_typ = 1.19\n",
    "vtrh_ovlo_max = 1.225\n",
    "I_leak = 100e-9\n",
    "R1, R3 = calc_resistors(v_thr_uvlo_typ, UVLO, OVLO, R2)\n",
    "print(\"R1: {:.2f} kOhm\".format(R1/1e3))\n",
    "print(\"R3: {:.2f} kOhm\".format(R3/1e3))\n",
    "\n",
    "# Check resistor values\n",
    "I_r = UVLO / (R1 + R2 + R3)\n",
    "if I_r < 20 * I_leak:\n",
    "    print(\"Resistors are too small!\")\n",
    "else:\n",
    "    print(\"Ir = {:.2f} µA\".format(I_r * 1e6))\n",
    "# Convert to standard values\n",
    "R1 = 180e3\n",
    "R3 = 10e3\n",
    "\n",
    "# Calculate thresholds based on the standard values\n",
    "V_uvlo_nom = uvlo(v_thr_uvlo_typ, R1, R2, R3)\n",
    "V_ovlo_nom = ovlo(vtrh_ovlo_typ, R1, R2, R3)\n",
    "\n",
    "# Calculate manufacturer tolerances\n",
    "V_uvlo_min = uvlo(v_thr_uvlo_min, R1*0.99, R2*1.01, R3*1.01)\n",
    "V_uvlo_max = uvlo(v_thr_uvlo_max, R1*1.01, R2*0.99, R3*0.99)\n",
    "\n",
    "V_ovlo_min = ovlo(vtrh_ovlo_min, R1*0.99, R2*0.99 , R3*1.01)\n",
    "V_ovlo_max = ovlo(vtrh_ovlo_max, R1*1.01, R2*1.01, R3*0.99)\n",
    "\n",
    "# Print results\n",
    "print(\"UVLO Min: {:.2f} V\".format(V_uvlo_min))\n",
    "print(\"UVLO nominal: {:.2f} V\".format(V_uvlo_nom))\n",
    "print(\"UVLO Max: {:.2f} V\".format(V_uvlo_max))\n",
    "\n",
    "print(\"OVLO Min: {:.2f} V\".format(V_ovlo_min))\n",
    "print(\"OVLO nominal: {:.2f} V\".format(V_ovlo_nom))\n",
    "print(\"OVLO Max: {:.2f} V\".format(V_ovlo_max))"
   ]
  }
 ],
 "metadata": {
  "kernelspec": {
   "display_name": "Python 3",
   "language": "python",
   "name": "python3"
  },
  "language_info": {
   "codemirror_mode": {
    "name": "ipython",
    "version": 3
   },
   "file_extension": ".py",
   "mimetype": "text/x-python",
   "name": "python",
   "nbconvert_exporter": "python",
   "pygments_lexer": "ipython3",
   "version": "3.10.5"
  }
 },
 "nbformat": 4,
 "nbformat_minor": 5
}
