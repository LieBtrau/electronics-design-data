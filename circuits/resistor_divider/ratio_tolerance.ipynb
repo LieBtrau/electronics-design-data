{
 "cells": [
  {
   "cell_type": "code",
   "execution_count": 8,
   "id": "7663f87a",
   "metadata": {},
   "outputs": [
    {
     "name": "stdout",
     "output_type": "stream",
     "text": [
      "Vin min: 50.13 V\n",
      "Vin max: 48.26 V\n"
     ]
    }
   ],
   "source": [
    "# Calculate input voltage of the voltage divider (min and max values) given resistor tolerances and output voltage\n",
    "R1 = 68e3\n",
    "R2 = 3.6e3\n",
    "tolerance = 0.01\n",
    "Vout =  5 * 99 /(99+101) - 0.002\n",
    "\n",
    "R1_min = R1 * (1 - tolerance)\n",
    "R1_max = R1 * (1 + tolerance)\n",
    "R2_min = R2 * (1 - tolerance)\n",
    "R2_max = R2 * (1 + tolerance)\n",
    "\n",
    "Vin_min = Vout * (R1_max + R2_min) / R2_min\n",
    "Vin_max = Vout * (R1_min + R2_max) / R2_max\n",
    "print(f\"Vin min: {Vin_min:.2f} V\")\n",
    "print(f\"Vin max: {Vin_max:.2f} V\")"
   ]
  }
 ],
 "metadata": {
  "kernelspec": {
   "display_name": "Python 3",
   "language": "python",
   "name": "python3"
  },
  "language_info": {
   "codemirror_mode": {
    "name": "ipython",
    "version": 3
   },
   "file_extension": ".py",
   "mimetype": "text/x-python",
   "name": "python",
   "nbconvert_exporter": "python",
   "pygments_lexer": "ipython3",
   "version": "3.10.5"
  }
 },
 "nbformat": 4,
 "nbformat_minor": 5
}
