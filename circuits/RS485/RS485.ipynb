{
 "cells": [
  {
   "cell_type": "markdown",
   "metadata": {},
   "source": [
    "# Half-Duplex Interfaces: Point-to-Point and Multipoint up to 100m\n",
    "<img src=\"./half_duplex_rs485.png\" width=\"400\" />\n",
    "\n",
    "## Fail safe biasing\n",
    "If minimum V(A)-V(B) threshold is 200mV (V_TH-MAX), a noise margin (V_N) of 50mV to 100mV is added.  \n",
    "\n",
    "So we arrive at a minimum Vab of 300mV."
   ]
  },
  {
   "cell_type": "code",
   "execution_count": 4,
   "metadata": {},
   "outputs": [
    {
     "name": "stdout",
     "output_type": "stream",
     "text": [
      "R_b = 333.33 Ohm\n",
      "R_T2 = 146.34 Ohm\n"
     ]
    }
   ],
   "source": [
    "# Formulas with magic numbers from Renesas TB509 Rev.1.01\n",
    "Vs = 3.3 # V\n",
    "Vab = 0.3 # V (200mV + 100mV noise margin)\n",
    "\n",
    "R_b = (Vs / Vab + 1) / 0.036\n",
    "R_T2 = R_b * 120 / (R_b - 60)\n",
    "R_T1 = 120\n",
    "\n",
    "print(f\"R_b = {R_b:.2f} Ohm\")\n",
    "print(f\"R_T2 = {R_T2:.2f} Ohm\")"
   ]
  },
  {
   "cell_type": "markdown",
   "metadata": {},
   "source": [
    "# References\n",
    "1. [TB509: Detecting Bus Signals Correctly with Failsafe Biased RS-485 Receivers](https://www.renesas.com/en/document/tcb/tb509-detecting-bus-signals-correctly-failsafe-biased-rs-485-receivers?r=532056)\n",
    "2. [ANP083 | Adapter PCB for filtering electromagnetic interference on an RS-485 interface](https://www.we-online.com/components/media/o187971v410%20ANP083c%20EN.pdf)\n"
   ]
  }
 ],
 "metadata": {
  "kernelspec": {
   "display_name": "Python 3",
   "language": "python",
   "name": "python3"
  },
  "language_info": {
   "codemirror_mode": {
    "name": "ipython",
    "version": 3
   },
   "file_extension": ".py",
   "mimetype": "text/x-python",
   "name": "python",
   "nbconvert_exporter": "python",
   "pygments_lexer": "ipython3",
   "version": "3.10.5"
  }
 },
 "nbformat": 4,
 "nbformat_minor": 2
}
