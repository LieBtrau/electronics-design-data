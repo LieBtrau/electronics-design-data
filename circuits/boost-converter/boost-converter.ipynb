{
 "cells": [
  {
   "cell_type": "code",
   "execution_count": 1,
   "metadata": {},
   "outputs": [],
   "source": [
    "# Duty cycle calculation\n",
    "\n",
    "Vd = 0.5 # Diode voltage drop [V]\n",
    "Vo = 8.4 # Output voltage [V]\n",
    "Vinmin = 3.3 # Minimum input voltage [V]\n",
    "Vinnom = 3.7 # Nominal input voltage [V]\n",
    "Vinmax = 4.2 # Maximum input voltage [V]\n",
    "\n",
    "Dmin = (Vo + Vd - Vinmax)/(Vo + Vd)\n",
    "Dnom = (Vo + Vd - Vinnom)/(Vo + Vd)\n",
    "Dmax = (Vo + Vd - Vinmin)/(Vo + Vd)"
   ]
  },
  {
   "cell_type": "markdown",
   "metadata": {},
   "source": [
    "# Topics\n",
    "* Maximum stress at Vinmin, where duty cycle is maximum, so highest peak current.\n",
    "* Disadvantages of boost converter:\n",
    "    * Input over-voltage can't be stopped\n",
    "    * Output short circuit can't be stopped\n",
    "\n",
    "# References\n",
    "* [Boost Converter: Design, Circuit, Equations & More, part 1: Jurgen Hubner](https://www.powerelectronicsnews.com/the-dc-dc-boost-converter-power-supply-design-tutorial-section-5-1/)\n",
    "* [Boost Converter: Design, Circuit, Equations & More, part 2: Jurgen Hubner](https://www.powerelectronicsnews.com/the-dc-dc-boost-converter-part-2-power-supply-design-tutorial-section-5-2/)"
   ]
  },
  {
   "cell_type": "code",
   "execution_count": 14,
   "metadata": {},
   "outputs": [],
   "source": [
    "# Two ways for average inductor current calculation\n",
    "D = Dmax\n",
    "Io = 2 # Output current [A]\n",
    "ηest = 0.8 # Estimated efficiency\n",
    "Vin = Vinmin\n",
    "\n",
    "# Method 1\n",
    "Il1 = Io / ((1-D)*ηest)\n",
    "\n",
    "# Method 2\n",
    "Il2 = Io * Vo / (Vin * ηest)\n",
    "\n",
    "Iinmax = max(Il1, Il2)"
   ]
  },
  {
   "cell_type": "code",
   "execution_count": 15,
   "metadata": {},
   "outputs": [],
   "source": [
    "# Inductor selection\n",
    "ΔIlpp = Il * 0.3 # Peak-to-peak inductor ripple current [A] -> design choice\n",
    "fsw = 600e3 # Switching frequency [Hz]\n",
    "Ilmin = 0.5 # Minimum inductor current [A]\n",
    "\n",
    "Lmin1 = Dmax * Vinmin / (ΔIlpp * fsw)\n",
    "\n",
    "# Check for discontinuous mode (DCM)\n",
    "Lmin2 = Dmin * Vinmax / (2*Ilmin * fsw)\n",
    "\n",
    "L  = 2.2e-6 # Inductor value [H] -> chosen value\n",
    "\n",
    "# Threshold current between CCM and DCM\n",
    "Ith = Dmin * Vinmax / (2*L*fsw)\n",
    "\n",
    "# Calculate actual peak-to-peak inductor ripple current\n",
    "ΔIlpp = Dmax * Vinmin / (L*fsw)\n",
    "\n",
    "# Calculate actual peak inductor current\n",
    "Ilpk = Iinmax + ΔIlpp/2"
   ]
  },
  {
   "cell_type": "markdown",
   "metadata": {},
   "source": [
    "# Inductor part selection\n",
    "\n",
    "1. Inductor saturation current must be higher than the maximum peak current (Ilpk) of the inductor.\n",
    "2. There's no standard for inductor RMS current.  Select one that has an acceptable temperature rise at the maximum peak current."
   ]
  },
  {
   "cell_type": "markdown",
   "metadata": {},
   "source": [
    "# Input capacitor\n",
    "1. For simulation, use 200nH in series with a 15mOhm resistor to simulate an imperfect voltage source.  Otherwise the input capacitors won't do anything.\n",
    "2. Take care of DC-derating of capacitors.\n",
    "3. To avoid oscillation, output impedance of input filter must be lower than input impedance of the converter.\n",
    "4. Input filter damping for MLCC capacitors:\n",
    "    * Add Cin2 = 4*Cin1 parallel to Cin1\n",
    "    * provide room for an extra damping resistor in series with Cin2"
   ]
  },
  {
   "cell_type": "code",
   "execution_count": 21,
   "metadata": {},
   "outputs": [],
   "source": [
    "import math\n",
    "# Input impedance of the converter\n",
    "Iomax = 2 # Maximum output current [A]\n",
    "Zin = - Vinmin**2 / (Vo * Iomax)\n",
    "\n",
    "Rs = 0.1 # Resistance of the input leads [Ohm]\n",
    "ESR_Cin1 = 10e-3 # Equivalent series resistance of the input capacitor [Ohm]\n",
    "ESR_Cin2 = 0.1 # Equivalent series resistance of the input capacitor [Ohm]\n",
    "Rd_in = 0 # any discreet resistor placed in series with the damping capacitor Cin2\n",
    "Lin = 1e-6 # input inductance.  If unknown, set to 1µH\n",
    "Cin1 = 20e-6 # input capacitance, MLCC\n",
    "Cin2 = 100e-6 # damping capacitance, elco (or polymer for high temperature)\n",
    "\n",
    "Zs = math.sqrt(Lin/(Cin1+Cin2))\n",
    "\n",
    "# Calculate the damping factor\n",
    "δin = (Rs + ESR_Cin1 + ESR_Cin2 + Rd_in) / (2*Zs) + Zs / (2 * abs(Zin))"
   ]
  },
  {
   "cell_type": "markdown",
   "metadata": {},
   "source": [
    "Damping factor δin should be > 1."
   ]
  },
  {
   "cell_type": "code",
   "execution_count": null,
   "metadata": {},
   "outputs": [],
   "source": [
    "# Input capacitor RMS current\n",
    "\n",
    "# Total RMS current\n",
    "Icin_rms = ΔIlpp / math.sqrt(12)\n",
    "\n",
    "# Calculate the reactance of each capacitor (using 8 instead of 2 * pi because wave is triangular, not sinusoidal)\n",
    "Xc1 = 1 / (8 * fsw * Cin1)\n",
    "Zc1 = math.sqrt(ESR_Cin1**2 + Xc1**2)\n",
    "\n",
    "Xc2 = 1 / (8 * fsw * Cin2)\n",
    "Zc2 = math.sqrt(ESR_Cin2**2 + Xc2**2)\n",
    "\n",
    "# Calculate the RMS current in each capacitor\n",
    "Ic1_rms = Icin_rms * Zc2 / (Zc1 + Zc2)\n",
    "Ic2_rms = Icin_rms * Zc1 / (Zc1 + Zc2)\n",
    "\n",
    "# Increase MLCC to avoid elco from overheating"
   ]
  },
  {
   "cell_type": "code",
   "execution_count": 28,
   "metadata": {},
   "outputs": [],
   "source": [
    "# Defining output diode currents\n",
    "\n",
    "# Average diode current = average inductor current = average input current\n",
    "Id_avg = Iomax / (1-Dmax) # Average diode current [A]\n",
    "\n",
    "# Peak diode current = peak inductor current\n",
    "Id_pk = Ilpk\n",
    "\n",
    "Id_rms = math.sqrt((1-Dmax) * (Id_pk**2 + ΔIlpp**2/3 - Id_pk * ΔIlpp))\n",
    "Ico_rms = math.sqrt(Id_rms**2 - Iomax**2)\n",
    "\n",
    "Cout1 = 20e-6 # output capacitance, MLCC\n",
    "Cout2 = 100e-6 # output capacitance, elco (or polymer for high temperature)\n",
    "ESR_Cout1 = 10e-3 # Equivalent series resistance of the output capacitor [Ohm]\n",
    "ESR_Cout2 = 0.1 # Equivalent series resistance of the output capacitor [Ohm]\n",
    "\n",
    "# Output capacitor calculation\n",
    "Xco1 = 1 / (8 * fsw * Cout1)\n",
    "Zco1 = math.sqrt(ESR_Cout1**2 + Xco1**2)\n",
    "\n",
    "Xco2 = 1 / (8 * fsw * Cout2)\n",
    "Zco2 = math.sqrt(ESR_Cout2**2 + Xco2**2)\n",
    "\n",
    "Ico1_rms = Ico_rms * Zco2 / (Zco1 + Zco2)\n",
    "Ico2_rms = Ico_rms * Zco1 / (Zco1 + Zco2)\n",
    "\n",
    "# Increase MLCC to avoid elco from overheating"
   ]
  },
  {
   "cell_type": "code",
   "execution_count": 30,
   "metadata": {},
   "outputs": [],
   "source": [
    "# Output voltage ripple\n",
    "Δvomaxpp = Vo * 0.03 # Maximum output voltage ripple [V] -> design choice\n",
    "Iopp = 1 # Output current ripple, due to load changes [A] -> design choice\n",
    "\n",
    "Co_min1 = 2 * Io * Dmax / (Δvomaxpp * fsw)\n",
    "ESR_max1 = Δvomaxpp / ( 2 * Id_pk)\n",
    "\n",
    "Δvopp = ΔIlpp + Iopp / (1 / Zco1  + 1 / Zco2)"
   ]
  },
  {
   "cell_type": "code",
   "execution_count": 33,
   "metadata": {},
   "outputs": [],
   "source": [
    "# Load transient response\n",
    "# Calculate the worst case right-hand pole zero \n",
    "\n",
    "ΔIload = 1 # Load step [A] -> design choice\n",
    "Δvo_load = 0.1 # Load step [V] -> design choice\n",
    "\n",
    "f_rhpz_min = (Vo / Iomax) * (Vinmin/Vo)**2 / (2 * math.pi * L)\n",
    "\n",
    "Co_min2 = 2 * ΔIload / (math.pi * f_rhpz_min * Δvo_load)\n",
    "ESR_max2 = Δvo_load / (2 * ΔIload)\n",
    "\n",
    "Co_min = max(Co_min1, Co_min2)\n",
    "ESR_max = min(ESR_max1, ESR_max2)"
   ]
  },
  {
   "cell_type": "code",
   "execution_count": null,
   "metadata": {},
   "outputs": [],
   "source": [
    "# Output diode selection\n",
    "Vr = Vo * 1.2 # Reverse voltage [V] -> design choice\n",
    "Idmax = Iomax * 1.2 # Maximum diode current [A] -> design choice"
   ]
  },
  {
   "cell_type": "markdown",
   "metadata": {},
   "source": [
    "Diode package selection : PowerDI5 for lower inductance.\n",
    "\n",
    "# Second stage output filter design\n",
    "[DESIGNING SECOND STAGE OUTPUT FILTERS FOR SWITCHING POWER SUPPLIES, Kevin M. Tompsett](https://www.analog.com/media/en/technical-documentation/tech-articles/Designing-Second-Stage-Output-Filters-for-Switching-Power-Supplies.pdf)\n",
    "\n",
    "[The DC-DC Boost Converter, Part 3 – Power Supply Design Tutorial Section 5-3](https://www.powerelectronicsnews.com/the-dc-dc-boost-converter-part-3-power-supply-design-tutorial-section-5-3/)"
   ]
  }
 ],
 "metadata": {
  "kernelspec": {
   "display_name": "Python 3",
   "language": "python",
   "name": "python3"
  },
  "language_info": {
   "codemirror_mode": {
    "name": "ipython",
    "version": 3
   },
   "file_extension": ".py",
   "mimetype": "text/x-python",
   "name": "python",
   "nbconvert_exporter": "python",
   "pygments_lexer": "ipython3",
   "version": "3.10.5"
  },
  "orig_nbformat": 4
 },
 "nbformat": 4,
 "nbformat_minor": 2
}
