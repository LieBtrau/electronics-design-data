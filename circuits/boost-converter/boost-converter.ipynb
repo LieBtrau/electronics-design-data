{
 "cells": [
  {
   "cell_type": "markdown",
   "metadata": {},
   "source": [
    "# Boost converter issues\n",
    "[Working with Boost Converters](https://www.ti.com/lit/an/snva731/snva731.pdf)\n",
    "* No output disconnect (higher power consumption in sleep modes)\n",
    "* No short circuit protection\n",
    "* Inrush current"
   ]
  },
  {
   "cell_type": "code",
   "execution_count": 61,
   "metadata": {},
   "outputs": [
    {
     "name": "stdout",
     "output_type": "stream",
     "text": [
      "Dmin = 59.26 %\n"
     ]
    }
   ],
   "source": [
    "# Duty cycle calculation\n",
    "\n",
    "Vd = 0.5 # Diode voltage drop [V]\n",
    "Vo = 13 # Output voltage [V]\n",
    "Vinmin = 4.5 # Minimum input voltage [V]\n",
    "Vinnom = 5.0 # Nominal input voltage [V]\n",
    "Vinmax = 5.5 # Maximum input voltage [V]\n",
    "Dmax_ds = 0.95 # Maximum duty cycle from datasheet [decimal]\n",
    "\n",
    "Dmin = (Vo + Vd - Vinmax)/(Vo + Vd)\n",
    "Dnom = (Vo + Vd - Vinnom)/(Vo + Vd)\n",
    "Dmax = (Vo + Vd - Vinmin)/(Vo + Vd)\n",
    "\n",
    "if Dmax > Dmax_ds:\n",
    "    print(\"Duty cycle too high!\")\n",
    "else:\n",
    "    print(\"Dmin = {:.2f} %\".format(Dmin*100))"
   ]
  },
  {
   "cell_type": "markdown",
   "metadata": {},
   "source": [
    "# Topics\n",
    "* Maximum stress at Vinmin, where duty cycle is maximum, so highest peak current.\n",
    "* Disadvantages of boost converter:\n",
    "    * Input over-voltage can't be stopped\n",
    "    * Output short circuit can't be stopped\n",
    "\n",
    "# References\n",
    "* [Boost Converter: Design, Circuit, Equations & More, part 1: Jurgen Hubner](https://www.powerelectronicsnews.com/the-dc-dc-boost-converter-power-supply-design-tutorial-section-5-1/)\n",
    "* [Boost Converter: Design, Circuit, Equations & More, part 2: Jurgen Hubner](https://www.powerelectronicsnews.com/the-dc-dc-boost-converter-part-2-power-supply-design-tutorial-section-5-2/)"
   ]
  },
  {
   "cell_type": "code",
   "execution_count": 62,
   "metadata": {},
   "outputs": [],
   "source": [
    "# Two ways for average inductor current calculation\n",
    "D = Dmax\n",
    "Io = 0.1 # Output current [A]\n",
    "ηest = 0.8 # Estimated efficiency\n",
    "Vin = Vinmin\n",
    "\n",
    "# Method 1\n",
    "Il1_av = Io / ((1-D)*ηest)\n",
    "\n",
    "# Method 2\n",
    "Il2_av = Io * Vo / (Vin * ηest)\n",
    "\n",
    "Iin_av_max = max(Il1_av, Il2_av)"
   ]
  },
  {
   "cell_type": "code",
   "execution_count": 63,
   "metadata": {},
   "outputs": [],
   "source": [
    "# Inductor selection\n",
    "ΔIlpp_ch = Iin_av_max * 0.3 # Peak-to-peak inductor ripple current [A] -> design choice\n",
    "fsw = 0.75e6 # Switching frequency [Hz]\n",
    "Io_min = 0.05 # Minimum output current [A] -> design choice\n",
    "\n",
    "Lmin1 = Dmax * Vinmin / (ΔIlpp_ch * fsw)\n",
    "Lmin2 = Dmin * Vinmax / (2 * Io_min * fsw)\n",
    "\n",
    "Lmin = max(Lmin1, Lmin2)\n",
    "\n",
    "L  = 10e-6 # Inductor value [H] -> chosen value\n",
    "\n",
    "# Threshold output current between CCM and DCM\n",
    "Io_th = Dmin * Vinmax / (2*L*fsw)\n",
    "\n",
    "# Calculate actual peak-to-peak inductor ripple current\n",
    "ΔIlpp = Dmax * Vinmin / (L*fsw)\n",
    "\n",
    "# Calculate actual peak inductor current\n",
    "Ilpk = Iin_av_max + ΔIlpp/2"
   ]
  },
  {
   "cell_type": "markdown",
   "metadata": {},
   "source": [
    "# Inductor part selection\n",
    "\n",
    "1. Inductor saturation current must be higher than the maximum peak current (Ilpk) of the inductor.\n",
    "2. There's no standard for inductor RMS current.  Select one that has an acceptable temperature rise at the maximum peak current."
   ]
  },
  {
   "cell_type": "markdown",
   "metadata": {},
   "source": [
    "# Input capacitor\n",
    "1. For simulation, use 200nH in series with a 15mOhm resistor to simulate an imperfect voltage source.  Otherwise the input capacitors won't do anything.\n",
    "2. Take care of DC-derating of capacitors.\n",
    "3. To avoid oscillation, output impedance of input filter must be lower than input impedance of the converter.\n",
    "4. Input filter damping for MLCC capacitors:\n",
    "    * Add Cin2 = 4*Cin1 parallel to Cin1\n",
    "    * provide room for an extra damping resistor in series with Cin2\n",
    "\n",
    "[Negative input resistance of switching regulators](https://www.we-online.com/components/media/o109021v410%20AppNotes_ANP008_NegativeInputResistanceOfSwitchingRegulators_EN.pdf)"
   ]
  },
  {
   "cell_type": "code",
   "execution_count": 64,
   "metadata": {},
   "outputs": [],
   "source": [
    "import math\n",
    "# Input impedance of the converter\n",
    "Iomax = 0.1 # Maximum output current [A]\n",
    "Zin = - Vinmin**2 / (Vo * Iomax) # Input impedance [Ohm]\n",
    "\n",
    "Rs = 0.1 # Resistance of the input leads [Ohm]\n",
    "ESR_Cin1 = 10e-3 # Equivalent series resistance of the input capacitor [Ohm]\n",
    "ESR_Cin2 = 0.1 # Equivalent series resistance of the input capacitor [Ohm]\n",
    "Rd_in = 0 # any discrete resistor placed in series with the damping capacitor Cin2\n",
    "Lin = 1e-6 # input inductance.  If unknown, set to 1µH\n",
    "Cin1 = 20e-6 # input capacitance, MLCC\n",
    "Cin2 = 100e-6 # damping capacitance, elco (or polymer for high temperature)\n",
    "\n",
    "Zs = math.sqrt(Lin/(Cin1+Cin2))\n",
    "\n",
    "# Calculate the damping factor\n",
    "δin = (Rs + ESR_Cin1 + ESR_Cin2 + Rd_in) / (2*Zs) + Zs / (2 * abs(Zin))\n",
    "\n",
    "if(δin < 1):\n",
    "    print(\"Damping factor too low!\")"
   ]
  },
  {
   "cell_type": "markdown",
   "metadata": {},
   "source": [
    "Damping factor δin should be > 1.\n",
    "Simulate the input filter with LTSpice and check for ringing.  If there's ringing, increase the damping factor by increasing the series resistor of the electrolytic capacitor."
   ]
  },
  {
   "cell_type": "code",
   "execution_count": 65,
   "metadata": {},
   "outputs": [],
   "source": [
    "# Input capacitor RMS current\n",
    "\n",
    "# Total RMS current\n",
    "Icin_rms = ΔIlpp / math.sqrt(12)\n",
    "\n",
    "# Calculate the reactance of each capacitor (using 8 instead of 2 * pi because wave is triangular, not sinusoidal)\n",
    "Xc1 = 1 / (8 * fsw * Cin1)\n",
    "Zc1 = math.sqrt(ESR_Cin1**2 + Xc1**2)\n",
    "\n",
    "Xc2 = 1 / (8 * fsw * Cin2)\n",
    "Zc2 = math.sqrt(ESR_Cin2**2 + Xc2**2)\n",
    "\n",
    "# Calculate the RMS current in each capacitor\n",
    "Ic1_rms = Icin_rms * Zc2 / (Zc1 + Zc2)\n",
    "Ic2_rms = Icin_rms * Zc1 / (Zc1 + Zc2)\n",
    "\n",
    "# Increase MLCC to avoid elco from overheating"
   ]
  },
  {
   "cell_type": "code",
   "execution_count": 66,
   "metadata": {},
   "outputs": [],
   "source": [
    "# Defining output diode currents\n",
    "\n",
    "# Average diode current = average inductor current = average input current\n",
    "Id_avg = Iomax / (1-Dmax) # Average diode current [A]\n",
    "\n",
    "# Peak diode current = peak inductor current\n",
    "Id_pk = Ilpk\n",
    "\n",
    "Id_rms = math.sqrt((1-Dmax) * (Id_pk**2 + ΔIlpp**2/3 - Id_pk * ΔIlpp))\n"
   ]
  },
  {
   "cell_type": "code",
   "execution_count": 67,
   "metadata": {},
   "outputs": [],
   "source": [
    "# Output diode selection\n",
    "Vr = Vo * 1.2 # Reverse voltage [V] -> design choice\n",
    "Idmax = Iomax * 1.2 # Maximum diode current [A] -> design choice"
   ]
  },
  {
   "cell_type": "markdown",
   "metadata": {},
   "source": [
    "Diode package selection : PowerDI5 for lower inductance."
   ]
  },
  {
   "cell_type": "code",
   "execution_count": 68,
   "metadata": {},
   "outputs": [],
   "source": [
    "# Output voltage ripple\n",
    "Δvomaxpp = Vo * 0.03 # Maximum output voltage ripple [V] -> design choice\n",
    "Iopp = 0.05 # Output current ripple, due to load changes [A] -> design choice\n",
    "\n",
    "Co_min1 = 2 * Io * Dmax / (Δvomaxpp * fsw)\n",
    "ESR_max1 = Δvomaxpp / ( 2 * Id_pk)"
   ]
  },
  {
   "cell_type": "code",
   "execution_count": 69,
   "metadata": {},
   "outputs": [],
   "source": [
    "Ico_rms = math.sqrt(Id_rms**2 - Iomax**2)\n",
    "\n",
    "Cout1 = 20e-6 # output capacitance, MLCC\n",
    "Cout2 = 1e-12 # output capacitance, elco (or polymer for high temperature)\n",
    "ESR_Cout1 = 10e-3 # Equivalent series resistance of the output capacitor [Ohm]\n",
    "ESR_Cout2 = 0.1 # Equivalent series resistance of the output capacitor [Ohm]\n",
    "\n",
    "# Output capacitor calculation\n",
    "Xco1 = 1 / (8 * fsw * Cout1)\n",
    "Zco1 = math.sqrt(ESR_Cout1**2 + Xco1**2)\n",
    "\n",
    "Xco2 = 1 / (8 * fsw * Cout2)\n",
    "Zco2 = math.sqrt(ESR_Cout2**2 + Xco2**2)\n",
    "\n",
    "Ico1_rms = Ico_rms * Zco2 / (Zco1 + Zco2)\n",
    "Ico2_rms = Ico_rms * Zco1 / (Zco1 + Zco2)\n",
    "\n",
    "# Increase MLCC to avoid elco from overheating\n",
    "\n",
    "Δvopp = ΔIlpp + Iopp / (1 / Zco1  + 1 / Zco2)"
   ]
  },
  {
   "cell_type": "code",
   "execution_count": 70,
   "metadata": {},
   "outputs": [],
   "source": [
    "# Load transient response\n",
    "# Calculate the worst case right-hand pole zero \n",
    "\n",
    "ΔIload = 1 # Load step [A] -> design choice\n",
    "Δvo_load = 0.1 # Load step [V] -> design choice\n",
    "\n",
    "f_rhpz_min = (Vo / Iomax) * (Vinmin/Vo)**2 / (2 * math.pi * L)\n",
    "\n",
    "Co_min2 = 2 * ΔIload / (math.pi * f_rhpz_min * Δvo_load)\n",
    "ESR_max2 = Δvo_load / (2 * ΔIload)\n",
    "\n",
    "Co_min = max(Co_min1, Co_min2)\n",
    "ESR_max = min(ESR_max1, ESR_max2)"
   ]
  },
  {
   "cell_type": "markdown",
   "metadata": {},
   "source": [
    "# Second stage input filter design\n",
    "[Impact of the layout, components, and filters on the EMC of modern DC/DC switching controllers](https://www.we-online.com/components/media/o109026v410%20AppNotes_ANP044_ImpactOfTheLayoutComponentsAndFiltersOnTheEMCOfModernDCDCSwitchingControllers_EN.pdf)\n",
    "\n",
    "## LC-filter\n",
    "* set to 1/10 of the switching frequency\n",
    "* SRF of the inductor should be > 10 times the switching frequency\n",
    "* typical inductor : 1µH to 22µH\n",
    "* for emissions > 10MHz, add a ferrite bead between the output of the LC-filter and the input of the device (forming a LCL-filter).\n",
    "* typical capacitors : 10µF to 100µF\n",
    "\n",
    "# Second stage output filter design\n",
    "[DESIGNING SECOND STAGE OUTPUT FILTERS FOR SWITCHING POWER SUPPLIES, Kevin M. Tompsett](https://www.analog.com/media/en/technical-documentation/tech-articles/Designing-Second-Stage-Output-Filters-for-Switching-Power-Supplies.pdf)\n",
    "\n",
    "[The DC-DC Boost Converter, Part 3 – Power Supply Design Tutorial Section 5-3](https://www.powerelectronicsnews.com/the-dc-dc-boost-converter-part-3-power-supply-design-tutorial-section-5-3/)"
   ]
  }
 ],
 "metadata": {
  "kernelspec": {
   "display_name": "Python 3",
   "language": "python",
   "name": "python3"
  },
  "language_info": {
   "codemirror_mode": {
    "name": "ipython",
    "version": 3
   },
   "file_extension": ".py",
   "mimetype": "text/x-python",
   "name": "python",
   "nbconvert_exporter": "python",
   "pygments_lexer": "ipython3",
   "version": "3.10.5"
  },
  "orig_nbformat": 4
 },
 "nbformat": 4,
 "nbformat_minor": 2
}
