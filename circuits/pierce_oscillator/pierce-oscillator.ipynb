{
 "cells": [
  {
   "cell_type": "markdown",
   "metadata": {},
   "source": [
    "# Simulation model\n",
    "<img src =\"./quartz_crystal_model.png\" width=700 />"
   ]
  },
  {
   "cell_type": "code",
   "execution_count": 17,
   "metadata": {},
   "outputs": [],
   "source": [
    "# Calculating the motional resistance Rm\n",
    "\n",
    "ESR = 50 # Equivalent series resistance of the crystal\n",
    "C0 = 1e-6 # Shunt capacitance of the crystal\n",
    "C1 = 10e-12 # First external load capacitance of the crystal\n",
    "C2 = 10e-12 # Second external load capacitance of the crystal\n",
    "\n",
    "CL = C1 * C2 / (C1 + C2) # Total load capacitance of the crystal\n",
    "\n",
    "Rm = ESR /  (1 + C0 / CL)**2"
   ]
  },
  {
   "cell_type": "markdown",
   "metadata": {},
   "source": [
    "## Resonance frequency\n",
    "First resonance is series frequency of Lm and Cm.\n",
    "$$f_{s}=\\frac{1}{2*\\Pi*\\sqrt{L_{m}*C_{m}}}$$\n",
    "Second resonance is parallel frequency of Lm and (Cm||C0).\n",
    "$$f_{p}=\\frac{1}{2*\\Pi*\\sqrt{L_{m}*\\frac{C_{m}*C_{0}}{C_{m}+C_{0}}}}$$"
   ]
  },
  {
   "cell_type": "markdown",
   "metadata": {},
   "source": [
    "Output of amplifier with external capacitor forms RC filter.  Crystal with the other external capacitor forms another RC filter.  The two RC filters form a 180 degree phase shift at the resonance frequency.\n",
    "\n",
    "# Pierce oscillator\n",
    "<img src=\"./pierce_oscillator_circuit.png\" width=700/>\n",
    "\n",
    "# Stability\n",
    "## Negative resistance testing\n",
    "1. Measure Rm of the crystal with a VNA.  It's the resistance at the series resonance frequency. [link](https://youtu.be/MWQCZGXpSSc?list=PLT84nve2j1g9IW7cd41XPkfszVWN84zZv&t=439)\n",
    "2. Calculate equivalent series resistance (R<sub>e</sub>) of the crystal.  \n",
    "$$R_{e} = R_{m} * (1 + \\frac{C_{0}}{C_{L}})^{2}$$\n",
    "\n",
    "<img src=\"-R_test.png\" width=\"200\"></img> \n",
    "\n",
    "3. Add a resistor Connect_r (or R<sub>Q</sub> in the image) directly in series with the crystal (this is not the resistor R_Ext at the output of the amplifier!).  Increase the resistor until the crystal stops oscillating.  Now it's possible to calculate the negative resistance of the crystal:\n",
    "\n",
    "$$\\left| -R_{n} \\right|=Connect_R + R_{e}$$\n",
    "\n",
    "## Oscillation allowance\n",
    "$$\\frac{\\left| R_{n} \\right|}{R_{e}} \\ge  5$$\n",
    "\n",
    "Fesz electronics formula divides by ESRmax instead of Re used in Seiko application note.\n",
    "\n",
    "If the gain margin is too low, try a crystal that requires lower load capacitance."
   ]
  },
  {
   "cell_type": "markdown",
   "metadata": {},
   "source": [
    "# Oscillator transconductance\n",
    "\n",
    "g<sub>m</sub> = actual transconductance of the amplifier, specified in the datasheet.  If the value is not specified, then measure it according to the method described in [Statek : Practical Analysis of the Pierce Oscillator](./tn31.pdf).\n",
    "\n",
    "g<sub>mcrit</sub> is defined as the minimal transconductance required to maintain a stable oscillation.\n",
    "\n",
    "$$g_{mcrit} =  4 \\times (ESR+R_{Ext}) \\times (2 \\times π \\times  f)^{2} \\times (C_{0}+C_{L})^{2}$$\n",
    "\n",
    "## Minimum required gain margin\n",
    "\n",
    "$$gain_{margin} =  \\frac{g_{m}}{g_{mcrit}} > 5$$\n",
    "\n",
    "## Maximum allowed gain margin\n",
    "\n",
    "Gm = maximal critical crystal transconductance, specified in the datasheet.\n",
    "\n",
    "$$G_{m} \\ge \\frac{g_{m}}{5}$$\n",
    "\n",
    "If the requirements are not met, try a crystal that requires lower load capacitance or a crystal with lower ESR."
   ]
  },
  {
   "cell_type": "markdown",
   "metadata": {},
   "source": [
    "# Maximum drive level\n",
    "[Dr. Steve Arar : How to Measure the Drive Level of a Quartz Crystal](https://www.allaboutcircuits.com/technical-articles/measuring-drive-level-of-a-quartz-crystal/)\n",
    "\n",
    "## Method 1 : Using a current probe\n",
    "Good for you if you have an HF-current probe.\n",
    "\n",
    "## Method 2 : Measuring the voltage at the input of the amplifier\n",
    "The current through the crystal is the sum of the current into the amplifier and the current into external load capacitance C2.  We can ignore the current into the amplifier because it's very small compared to the current into the external load capacitance C2.\n",
    "\n",
    "**An active FET-input probe (<1pF) is required to measure the voltage at the input of the amplifier.**"
   ]
  },
  {
   "cell_type": "code",
   "execution_count": 2,
   "metadata": {},
   "outputs": [
    {
     "name": "stdout",
     "output_type": "stream",
     "text": [
      "Maximum drive level: 80.92 µW\n"
     ]
    }
   ],
   "source": [
    "import math\n",
    "# Calculate maximum drive level\n",
    "\n",
    "Vpp = 0.632 # V, peak-to-peak, measured over C2, using a probe with capacitance << C2\n",
    "f = 27.12e6 # Hz, frequency of the drive signal\n",
    "ESR = 60.0 # Ohm, equivalent series resistance of the crystal\n",
    "C2 = 18.0e-12 # F, second external load capacitance of the crystal\n",
    "Cs = 5.0e-12 # F, stray capacitance of the crystal\n",
    "Cprobe = 10.0e-12 # F, capacitance of the probe\n",
    "\n",
    "# Calculate the load capacitance\n",
    "CL = C2 + Cs/2 + Cprobe\n",
    "\n",
    "# Calculate the drive level\n",
    "P = (Vpp * math.pi * f * CL)**2 * ESR / 2\n",
    "print(\"Maximum drive level: %.2f µW\" % (P * 1e6))"
   ]
  },
  {
   "cell_type": "markdown",
   "metadata": {},
   "source": [
    "## Method 3 : Measuring the differential voltage over the crystal\n",
    "$$ P = \\frac{R_{m}}{2} \\times (\\Pi^{} \\times f \\times (C_{0}+C_{L}) \\times V_{pp})^{2} $$"
   ]
  },
  {
   "cell_type": "code",
   "execution_count": 19,
   "metadata": {},
   "outputs": [],
   "source": [
    "import math\n",
    "# Calculate maximum drive level, devttyS0\n",
    "\n",
    "Vpp = 2 # V, peak to peak voltage across the crystal\n",
    "C0 = 5.0e-12 # F, shunt capacitance\n",
    "CL = 12.0e-12 # F, load capacitance\n",
    "f = 10.0e6 # Hz, frequency of the drive signal\n",
    "ESR= 50.0 # Ohm, equivalent series resistance of the crystal\n",
    "\n",
    "Rm = ESR / (1 + C0 / CL)**2 # motional resistance of the crystal\n",
    "P = Rm/2 * (math.pi*f*(C0+CL)*Vpp)**2 # power dissipated in the crystal"
   ]
  },
  {
   "cell_type": "markdown",
   "metadata": {},
   "source": [
    "## Calculating the external resistor R_Ext\n",
    "\n",
    "Reducing crystal drive level by adding a series resistor R_Ext on the output of the amplifier.\n",
    "Start off with a value of :"
   ]
  },
  {
   "cell_type": "code",
   "execution_count": 20,
   "metadata": {},
   "outputs": [],
   "source": [
    "C2 = 10.0e-12 # F, load capacitance on crystal on the amplifer side\n",
    "f = 10.0e6 # Hz, frequency of the drive signal\n",
    "\n",
    "R_Ext = 1 / (2 * math.pi * f * C2) # initial guess for the series resistance"
   ]
  },
  {
   "cell_type": "markdown",
   "metadata": {},
   "source": [
    "Remark that some ICs already have a series resistor on the output.  You might want to measure the output impedance of the IC to get a more accurate value of Rs according to the [IQD application note](https://www.iqdfrequencyproducts.com/media/pg/1046/1551961314/31.pdf)."
   ]
  },
  {
   "cell_type": "markdown",
   "metadata": {},
   "source": [
    "# References\n",
    "* Good in-depth explanation of the Pierce oscillator : [Statek application notes](https://statek.com/technical-papers/)\n",
    "* [Wikipedia Pierce oscillator](https://en.wikipedia.org/wiki/Pierce_oscillator)\n",
    "* [devttys0 : Crystal Oscillator Theory and Design](https://youtu.be/5StwZCeNzVU?t=1398) : Maximum drive level\n",
    "* [AN943 : Practical PICmicro® Oscillator Analysis and Design](http://ww1.microchip.com/downloads/en/AppNotes/00943A.pdf)\n",
    "* [Seiko Oscillator Circuit Evaluation Method (1)](https://www5.epsondevice.com/en/information/technical_info/pdf/tech_notes_e201302.pdf)\n",
    "* [Seiko Oscillator Circuit Evaluation Method (2)](https://www5.epsondevice.com/en/information/technical_info/pdf/tech_notes_e_oscillator_circuit_evaluation_method_2.pdf)\n",
    "* [ST AN2867](https://www.st.com/resource/en/application_note/cd00221665-oscillator-design-guide-for-stm8af-al-s-stm32-mcus-and-mpus-stmicroelectronics.pdf)\n",
    "* [IQD : Practical Analysis of the Pierce Oscillator](https://www.iqdfrequencyproducts.com/media/pg/1046/1551961314/31.pdf)"
   ]
  }
 ],
 "metadata": {
  "kernelspec": {
   "display_name": "Python 3",
   "language": "python",
   "name": "python3"
  },
  "language_info": {
   "codemirror_mode": {
    "name": "ipython",
    "version": 3
   },
   "file_extension": ".py",
   "mimetype": "text/x-python",
   "name": "python",
   "nbconvert_exporter": "python",
   "pygments_lexer": "ipython3",
   "version": "3.10.5"
  }
 },
 "nbformat": 4,
 "nbformat_minor": 2
}
